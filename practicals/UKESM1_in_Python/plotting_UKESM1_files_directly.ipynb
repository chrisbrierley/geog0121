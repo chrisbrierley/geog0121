{
 "cells": [
  {
   "cell_type": "markdown",
   "metadata": {},
   "source": [
    "# Plotting UKESM1 files directly"
   ]
  },
  {
   "cell_type": "markdown",
   "metadata": {},
   "source": [
    "### Import packages and define functions for calculations"
   ]
  },
  {
   "cell_type": "code",
   "execution_count": null,
   "metadata": {},
   "outputs": [],
   "source": [
    "'''Import packages for loading data, analysing, and plotting'''\n",
    "\n",
    "import xarray\n",
    "import numpy\n",
    "import cartopy\n",
    "import matplotlib\n",
    "%matplotlib inline\n",
    "\n",
    "# Add a couple of deep down individual functions.\n",
    "from mpl_toolkits.axes_grid1 import make_axes_locatable\n",
    "from cartopy.mpl.gridliner import LONGITUDE_FORMATTER, LATITUDE_FORMATTER\n",
    "from matplotlib.ticker import AutoMinorLocator\n",
    "\n",
    "# used to create area averages over AR6 regions.\n",
    "import regionmask\n",
    "\n",
    "# hide some warning messages\n",
    "import warnings\n",
    "warnings.filterwarnings(\"ignore\")\n"
   ]
  },
  {
   "cell_type": "markdown",
   "metadata": {},
   "source": [
    "## Computing and plotting the global mean surface temperature changes "
   ]
  },
  {
   "cell_type": "code",
   "execution_count": null,
   "metadata": {},
   "outputs": [],
   "source": [
    "# Download and load the historical/ssp126 UKESM1 output\n",
    "# then combine then into one single file which covers the time period from 1850-2100\n",
    "\n",
    "filename_hist_1='~/geog0121_shared_space/cmip6_UKESM1_data/historical/tas_Amon_UKESM1-0-LL_historical_r1i1p1f2_gn_185001-194912.nc'\n",
    "filename_hist_2='~/geog0121_shared_space/cmip6_UKESM1_data/historical/tas_Amon_UKESM1-0-LL_historical_r1i1p1f2_gn_195001-201412.nc'\n",
    "\n",
    "filename_ssp126_1='~/geog0121_shared_space/cmip6_UKESM1_data/ssp126/tas_Amon_UKESM1-0-LL_ssp126_r1i1p1f2_gn_201501-204912.nc'\n",
    "filename_ssp126_2='~/geog0121_shared_space/cmip6_UKESM1_data/ssp126/tas_Amon_UKESM1-0-LL_ssp126_r1i1p1f2_gn_205001-210012.nc'\n",
    "\n",
    "filename_ssp585_1='~/geog0121_shared_space/cmip6_UKESM1_data/ssp585/tas_Amon_UKESM1-0-LL_ssp585_r1i1p1f2_gn_201501-204912.nc'\n",
    "filename_ssp585_2='~/geog0121_shared_space/cmip6_UKESM1_data/ssp585/tas_Amon_UKESM1-0-LL_ssp585_r1i1p1f2_gn_205001-210012.nc'"
   ]
  },
  {
   "cell_type": "code",
   "execution_count": null,
   "metadata": {},
   "outputs": [],
   "source": [
    "historical=xarray.open_mfdataset(paths=[filename_hist_1,filename_hist_2],combine='by_coords')\n",
    "tas_hist=historical.tas #just select the surface air temperatures\n",
    "\n",
    "ssp126=xarray.open_mfdataset(paths=[filename_ssp126_1,filename_ssp126_2],combine='by_coords')\n",
    "tas_126=ssp126.tas #just select the surface air temperatures\n",
    "\n",
    "ssp585=xarray.open_mfdataset(paths=[filename_ssp585_1,filename_ssp585_2],combine='by_coords')\n",
    "tas_585=ssp585.tas #just select the surface air temperatures"
   ]
  },
  {
   "cell_type": "code",
   "execution_count": null,
   "metadata": {},
   "outputs": [],
   "source": [
    "#Set as anomalies from 1981-2010\n",
    "baseline=tas_hist.sel(time=slice('1981-01-01', '2010-12-30'))\n",
    "climatology = baseline.groupby(\"time.month\").mean(\"time\")\n",
    "tasA_hist = tas_hist.groupby(\"time.month\") - climatology\n",
    "tasA_126 = tas_126.groupby(\"time.month\") - climatology\n",
    "tasA_585 = tas_585.groupby(\"time.month\") - climatology"
   ]
  },
  {
   "cell_type": "code",
   "execution_count": null,
   "metadata": {},
   "outputs": [],
   "source": [
    "# create some area-weights to average the fields with\n",
    "weights=tas_hist[0,:,:] #using tas to copy over metadata  #select the 1st timestep\n",
    "weights = numpy.cos(numpy.deg2rad(historical.lat))\n",
    "weights.name = \"weights\"\n",
    "    \n",
    "#Make some field with the weighting applied\n",
    "tasA_wgtd_hist=tasA_hist.weighted(weights)\n",
    "tasA_wgtd_126=tasA_126.weighted(weights)\n",
    "tasA_wgtd_585=tasA_585.weighted(weights)"
   ]
  },
  {
   "cell_type": "code",
   "execution_count": null,
   "metadata": {},
   "outputs": [],
   "source": [
    "#Create the global mean temperatures...\n",
    "gmt_hist = tasA_wgtd_hist.mean(dim=('lat', 'lon'))\n",
    "gmt_126 = tasA_wgtd_126.mean(dim=('lat', 'lon'))\n",
    "gmt_585 = tasA_wgtd_585.mean(dim=('lat', 'lon'))"
   ]
  },
  {
   "cell_type": "code",
   "execution_count": null,
   "metadata": {},
   "outputs": [],
   "source": [
    "#Create some 5 year smoothed versions (60 months)\n",
    "gmt_hist=gmt_hist.chunk(1980) #re-chunking array to avoid error on next line\n",
    "gmt_hist_smoothed=gmt_hist.rolling(time=60,center=True).mean(dim=('time'))\n",
    "gmt_126=gmt_126.chunk(1032) #re-chunking time series into single long block to avoid error on next line\n",
    "gmt_126_smoothed=gmt_126.rolling(time=60,center=True).mean(dim=('time'))\n",
    "gmt_585=gmt_585.chunk(1032) #re-chunking all months into single long block to avoid error on next line\n",
    "gmt_585_smoothed=gmt_585.rolling(time=60,center=True).mean(dim=('time'))"
   ]
  },
  {
   "cell_type": "code",
   "execution_count": null,
   "metadata": {},
   "outputs": [],
   "source": [
    "# Create a line plot of monthly global mean surface temperature anomalies\n",
    "fig, ax = matplotlib.pyplot.subplots(figsize=(15,4))\n",
    "gmt_hist.plot(ax=ax, label='historical',color='grey')\n",
    "gmt_126.plot(ax=ax, label='ssp126',color='cornflowerblue')\n",
    "gmt_585.plot(ax=ax, label='ssp585',color='indianred')\n",
    "gmt_126_smoothed.plot(ax=ax,color='navy')\n",
    "gmt_hist_smoothed.plot(ax=ax,color='black')\n",
    "gmt_585_smoothed.plot(ax=ax,color='firebrick')\n",
    "ax.grid()\n",
    "ax.xaxis.set_minor_locator(AutoMinorLocator())   \n",
    "ax.legend(loc='best') \n",
    "ax.set(xlabel='Year',ylabel='Temperature Change (oC, wrt 1981-2010)')\n",
    "matplotlib.pyplot.title('GMST')"
   ]
  },
  {
   "cell_type": "markdown",
   "metadata": {},
   "source": [
    "## AR6 Regions\n",
    "For the upcoming IPCC report, there are a series of pre-defined regions. You may want to use them in your own research"
   ]
  },
  {
   "cell_type": "code",
   "execution_count": null,
   "metadata": {},
   "outputs": [],
   "source": [
    "# Show what regions are available...\n",
    "regionmask.defined_regions.ar6.all.plot(text_kws=dict(color=\"#67000d\", fontsize=7, bbox=dict(pad=0.2, color=\"w\")))\n",
    "regionmask.defined_regions.ar6.all"
   ]
  },
  {
   "cell_type": "code",
   "execution_count": null,
   "metadata": {},
   "outputs": [],
   "source": [
    "# First of all, we will take the annual average of all the temperature data loaded above.\n",
    "ann_tasA_hist = tasA_hist.groupby(\"time.year\").mean()\n",
    "ann_tasA_126 = tasA_126.groupby(\"time.year\").mean()\n",
    "ann_tasA_585 = tasA_585.groupby(\"time.year\").mean()"
   ]
  },
  {
   "cell_type": "code",
   "execution_count": null,
   "metadata": {},
   "outputs": [],
   "source": [
    "# Then we create a mask and apply it over Northern Europe (region number 16)\n",
    "mask = regionmask.defined_regions.ar6.all.mask(ann_tasA_hist)\n",
    "NEU_weights=weights.where(mask == 16 ,0) # The ,0 in the where commands sets the weight as 0 outside region 16."
   ]
  },
  {
   "cell_type": "code",
   "execution_count": null,
   "metadata": {},
   "outputs": [],
   "source": [
    "# Now we take the weighted average over the regional to create a timeseries\n",
    "NEU_hist=ann_tasA_hist.weighted(NEU_weights).mean(dim=('lat', 'lon'))\n",
    "NEU_126=ann_tasA_126.weighted(NEU_weights).mean(dim=('lat', 'lon'))\n",
    "NEU_585=ann_tasA_585.weighted(NEU_weights).mean(dim=('lat', 'lon'))"
   ]
  },
  {
   "cell_type": "code",
   "execution_count": null,
   "metadata": {},
   "outputs": [],
   "source": [
    "# Create a line plot of annual mean surface temperature anomalies over Northern Europe\n",
    "fig, ax = matplotlib.pyplot.subplots(figsize=(15,4))\n",
    "NEU_hist.plot(ax=ax, label='historical',color='grey')\n",
    "NEU_126.plot(ax=ax, label='ssp126',color='cornflowerblue')\n",
    "NEU_585.plot(ax=ax, label='ssp585',color='indianred')\n",
    "ax.grid()\n",
    "ax.xaxis.set_minor_locator(AutoMinorLocator())   \n",
    "ax.legend(loc='best') \n",
    "ax.set(xlabel='Year',ylabel='Temperature Change (oC, wrt 1981-2010)')\n",
    "matplotlib.pyplot.title('Northern Europe Annual Mean')"
   ]
  },
  {
   "cell_type": "markdown",
   "metadata": {},
   "source": [
    "## Plot rainfall over an area"
   ]
  },
  {
   "cell_type": "code",
   "execution_count": null,
   "metadata": {},
   "outputs": [],
   "source": [
    "# Load in relevant data file\n",
    "rainfall_filename='~/geog0121_shared_space/cmip6_UKESM1_data/historical/pr_Amon_UKESM1-0-LL_historical_r1i1p1f2_gn_195001-201412.nc' # pr historical run, year 1850-2014"
   ]
  },
  {
   "cell_type": "code",
   "execution_count": null,
   "metadata": {},
   "outputs": [],
   "source": [
    "rainfall_file=xarray.open_dataset(rainfall_filename)\n",
    "# Create DJF rainfall average in mm/day\n",
    "pr_data=rainfall_file.pr.sel(time=slice('1981-01-01','2010-12-30')) # select a time period and \n",
    "winter_average=pr_data.where(pr_data.time['time.season'] == 'DJF').mean(dim=('time')) #select just a particular season and create an average over it\n",
    "winter_average=winter_average*86400 #convert units: 1 kg/m2/s = 86400 mm/day."
   ]
  },
  {
   "cell_type": "code",
   "execution_count": null,
   "metadata": {},
   "outputs": [],
   "source": [
    "# Select just the USA (by adding together 3 regions)\n",
    "mask = regionmask.defined_regions.ar6.all.mask(winter_average)\n",
    "usa = mask.where(mask == 3,0)+mask.where(mask == 4,0)+mask.where(mask == 5,0) #combine the regions into a single mask\n",
    "pr_usa = winter_average.where(usa)"
   ]
  },
  {
   "cell_type": "code",
   "execution_count": null,
   "metadata": {},
   "outputs": [],
   "source": [
    "# choose a good projection for regional maps\n",
    "matplotlib.pyplot.figure(figsize=(10,7))\n",
    "proj=cartopy.crs.LambertConformal(central_longitude=-85)\n",
    "ax = matplotlib.pyplot.subplot(111, projection=proj)\n",
    "ax.set_extent([-120, -60, 10, 60], crs=cartopy.crs.PlateCarree())\n",
    "\n",
    "# do the plot\n",
    "pr_usa.plot.pcolormesh(ax=ax, transform=cartopy.crs.PlateCarree())\n",
    "ax.coastlines()"
   ]
  },
  {
   "cell_type": "markdown",
   "metadata": {},
   "source": [
    "# Winds\n",
    "Visualising winds is a bit tricky as you need to consider direction as well as magnitude. So here we will create a vector diagram. "
   ]
  },
  {
   "cell_type": "code",
   "execution_count": null,
   "metadata": {},
   "outputs": [],
   "source": [
    "va_file='~/geog0121_shared_space/cmip6_UKESM1_data/historical/va_Amon_UKESM1-0-LL_historical_r1i1p1f2_gn_195001-201412.nc'\n",
    "ua_file='~/geog0121_shared_space/cmip6_UKESM1_data/historical/ua_Amon_UKESM1-0-LL_historical_r1i1p1f2_gn_195001-201412.nc'"
   ]
  },
  {
   "cell_type": "code",
   "execution_count": null,
   "metadata": {},
   "outputs": [],
   "source": [
    "d1=xarray.open_dataset(va_file)\n",
    "va=d1.va\n",
    "d2=xarray.open_dataset(ua_file)\n",
    "ua=d2.ua\n",
    "lat=d2.lat\n",
    "lon=d2.lon-180 #change [0,360] to [-180,180]\n",
    "plev=d2.plev #pressure in Pa, from surface to top"
   ]
  },
  {
   "cell_type": "code",
   "execution_count": null,
   "metadata": {},
   "outputs": [],
   "source": [
    "#Identify 2D latitudes and longitudes\n",
    "lon2d, lat2d = numpy.meshgrid(lon, lat)"
   ]
  },
  {
   "cell_type": "code",
   "execution_count": null,
   "metadata": {},
   "outputs": [],
   "source": [
    "#time-averaged wind speed\n",
    "va_ave=va.sel(time=slice('1981-01-01', '2010-12-30')).mean(dim=('time'))\n",
    "ua_ave=ua.sel(time=slice('1981-01-01', '2010-12-30')).mean(dim=('time'))"
   ]
  },
  {
   "cell_type": "code",
   "execution_count": null,
   "metadata": {},
   "outputs": [],
   "source": [
    "# wind stress at chosen pressure level\n",
    "#surface at 1000mb\n",
    "va_1000mb=va_ave[0]\n",
    "ua_1000mb=ua_ave[0]\n",
    "#at 850mb\n",
    "va_850mb=va_ave[2]\n",
    "ua_850mb=ua_ave[2]\n",
    "#at 500mb\n",
    "va_500mb=va_ave[5]\n",
    "ua_500mb=ua_ave[5]\n",
    "#at 250mb\n",
    "va_250mb=va_ave[8]\n",
    "ua_250mb=ua_ave[8]\n"
   ]
  },
  {
   "cell_type": "code",
   "execution_count": null,
   "metadata": {},
   "outputs": [],
   "source": [
    "region=[-30, 90, 0, 90] #[lon_min,lon_max,lat_min,lat_max]\n",
    "projection=cartopy.crs.PlateCarree()\n",
    "transform=cartopy.crs.PlateCarree()\n",
    "matplotlib.pyplot.figure(figsize=(8, 10))\n",
    "ax = matplotlib.pyplot.axes(projection=projection)\n",
    "ax.coastlines()\n",
    "ax.quiver(lon2d, lat2d, ua_250mb.values, va_250mb.values, transform=transform,regrid_shape=30) \n",
    "#not including the .values leads to error about ravel \n",
    "ax.set_extent(region, cartopy.crs.PlateCarree())\n"
   ]
  },
  {
   "cell_type": "markdown",
   "metadata": {},
   "source": [
    "# The Ocean Grid\n",
    "\n",
    "Working with model output on the ocean grid, with its rotated pole, presents an additional challenge. You must use the advanced features of `cartopy`, which comes bundeled with both the `geog0121` and `geog0111` virtual environments on the JupyterHub, but may not available elsewhere.\n",
    "\n",
    "## Sea surface temperature"
   ]
  },
  {
   "cell_type": "code",
   "execution_count": null,
   "metadata": {},
   "outputs": [],
   "source": [
    "variable_name='tos'\n",
    "filename_a='~/geog0121_shared_space/cmip6_UKESM1_data/historical/tos_Omon_UKESM1-0-LL_historical_r1i1p1f2_gn_185001-194912.nc'\n",
    "filename_b='~/geog0121_shared_space/cmip6_UKESM1_data/ssp370/tos_Omon_UKESM1-0-LL_ssp370_r1i1p1f2_gn_205001-210012.nc'"
   ]
  },
  {
   "cell_type": "code",
   "execution_count": null,
   "metadata": {},
   "outputs": [],
   "source": [
    "#Load in the data\n",
    "expt_a_file=xarray.open_dataset(filename_a,decode_times=False)\n",
    "expt_a=expt_a_file[variable_name]\n",
    "\n",
    "expt_b_file=xarray.open_dataset(filename_b,decode_times=False)\n",
    "expt_b=expt_b_file[variable_name]\n",
    "\n",
    "#2D coordinates\n",
    "latitude=expt_a_file['latitude']\n",
    "longitude=expt_a_file['longitude']"
   ]
  },
  {
   "cell_type": "code",
   "execution_count": null,
   "metadata": {},
   "outputs": [],
   "source": [
    "# Now we take the time-averages\n",
    "mn_a=numpy.average(expt_a,axis=0)\n",
    "mn_b=numpy.average(expt_b,axis=0)\n",
    "\n",
    "diff=mn_b-mn_a"
   ]
  },
  {
   "cell_type": "markdown",
   "metadata": {},
   "source": [
    "Having now created the field to actually plot, let's get on doing so"
   ]
  },
  {
   "cell_type": "code",
   "execution_count": null,
   "metadata": {},
   "outputs": [],
   "source": [
    "#temperatures\n",
    "cmap=matplotlib.pyplot.get_cmap('bwr') #define colormap\n",
    "\n",
    "#define colormap's range and scale\n",
    "clim=[-6,6]\n",
    "bounds = numpy.linspace(clim[0], clim[1], 21)\n",
    "norm = matplotlib.colors.BoundaryNorm(boundaries=bounds, ncolors=256)"
   ]
  },
  {
   "cell_type": "code",
   "execution_count": null,
   "metadata": {},
   "outputs": [],
   "source": [
    "#Global map\n",
    "\n",
    "projection = cartopy.crs.Robinson()\n",
    "transform=cartopy.crs.PlateCarree()\n",
    "\n",
    "matplotlib.pyplot.figure(figsize=(10,7))\n",
    "ax = matplotlib.pyplot.axes(projection=projection)\n",
    "\n",
    "ax.coastlines(resolution='110m', linewidth=0.5)\n",
    "ax.gridlines()\n",
    "\n",
    "fig=ax.pcolormesh(longitude,latitude,diff,transform=transform,cmap=cmap,norm=norm,shading=\"flat\")\n",
    "ax.add_feature(cartopy.feature.LAND, zorder=1,facecolor=cartopy.feature.COLORS['land_alt1'])\n",
    "cax,kw = matplotlib.colorbar.make_axes(ax,location='bottom',pad=0.05,shrink=0.7)\n",
    "matplotlib.pyplot.colorbar(fig,cax=cax,extend='both',**kw)"
   ]
  },
  {
   "cell_type": "code",
   "execution_count": null,
   "metadata": {},
   "outputs": [],
   "source": [
    "#Regional map\n",
    "region=[-20,70,20,90] #[lon_min,lon_max,lat_min,lat_max]\n",
    "\n",
    "projection = cartopy.crs.PlateCarree(central_longitude=0.0, globe=None)\n",
    "transform=cartopy.crs.PlateCarree()\n",
    "\n",
    "matplotlib.pyplot.figure(figsize=(10,7))\n",
    "ax = matplotlib.pyplot.axes(projection=projection)\n",
    "\n",
    "ax.coastlines()\n",
    "gl = ax.gridlines(crs=cartopy.crs.PlateCarree(), draw_labels=True,alpha=0.5, linestyle='--')\n",
    "gl.xlabels_top = False\n",
    "gl.ylabels_left = False\n",
    "gl.xformatter = LONGITUDE_FORMATTER\n",
    "gl.yformatter = LATITUDE_FORMATTER\n",
    "\n",
    "\n",
    "fig=ax.pcolormesh(longitude,latitude,diff, transform=transform,cmap=cmap,norm=norm,shading=\"flat\")\n",
    "ax.add_feature(cartopy.feature.LAND, zorder=1,facecolor=cartopy.feature.COLORS['land_alt1'])\n",
    "ax.set_extent(region, cartopy.crs.PlateCarree())\n",
    "\n",
    "cax,kw = matplotlib.colorbar.make_axes(ax,location='bottom',pad=0.05,shrink=0.7)\n",
    "matplotlib.pyplot.colorbar(fig,cax=cax,extend='both',**kw)\n",
    "\n",
    "#matplotlib.pyplot.savefig(figname)"
   ]
  },
  {
   "cell_type": "markdown",
   "metadata": {},
   "source": [
    "# Vertical structure\n",
    "Now we will demonstrate how to create a zonal mean warming pattern in the atmosphere"
   ]
  },
  {
   "cell_type": "code",
   "execution_count": null,
   "metadata": {},
   "outputs": [],
   "source": [
    "#Load the files\n",
    "ta_filename_370='~/geog0121_shared_space/cmip6_UKESM1_data/ssp370/ta_Amon_UKESM1-0-LL_ssp370_r1i1p1f2_gn_205001-210012.nc'\n",
    "ta_filename_hist='~/geog0121_shared_space/cmip6_UKESM1_data/historical/ta_Amon_UKESM1-0-LL_historical_r1i1p1f2_gn_185001-194912.nc'"
   ]
  },
  {
   "cell_type": "code",
   "execution_count": null,
   "metadata": {},
   "outputs": [],
   "source": [
    "#This cell actually loads the 3D data\n",
    "ta_hist=xarray.open_dataset(ta_filename_hist)\n",
    "ta_370=xarray.open_dataset(ta_filename_370)"
   ]
  },
  {
   "cell_type": "code",
   "execution_count": null,
   "metadata": {},
   "outputs": [],
   "source": [
    "# Now we take the time-averages\n",
    "znavg_ta_hist=ta_hist.ta.sel(time=slice('1850-01-01', '1900-12-30')).mean(dim=('time','lon'))\n",
    "znavg_ta_370=ta_370.ta.sel(time=slice('2071-01-01', '2100-12-30')).mean(dim=('time','lon'))\n",
    "# And compute the difference between them\n",
    "zndiff=znavg_ta_370-znavg_ta_hist"
   ]
  },
  {
   "cell_type": "code",
   "execution_count": null,
   "metadata": {},
   "outputs": [],
   "source": [
    "cmap=matplotlib.pyplot.get_cmap('RdBu') #define colormap\n",
    "#define colormap's range and scale\n",
    "bounds = [-15,-10,-7,-5,-3,-2,-1,0,1,2,3,5,7,10,15]\n",
    "norm = matplotlib.colors.BoundaryNorm(boundaries=bounds, ncolors=256)\n",
    "\n",
    "matplotlib.pyplot.figure(figsize=(10,7))\n",
    "\n",
    "ax = matplotlib.pyplot.axes()\n",
    "fig=ax.contourf(zndiff.lat,zndiff.plev*0.01,zndiff,levels=bounds,cmap=cmap,norm=norm)\n",
    "ax.invert_yaxis()\n",
    "\n",
    "cax,kw = matplotlib.colorbar.make_axes(ax,location='bottom',pad=0.05,shrink=0.7)\n",
    "matplotlib.pyplot.colorbar(fig,cax=cax,extend='both',**kw)"
   ]
  },
  {
   "cell_type": "markdown",
   "metadata": {},
   "source": [
    "This plot shows that only the troposphere is warming - the stratosphere (upper atmosphere) is cooling. The higher you go into the troposphere the more it warms, especially over the Equator. The Arctic (on the right) is warming more than the rest of the globe. "
   ]
  },
  {
   "cell_type": "markdown",
   "metadata": {},
   "source": [
    "## Plot the AMOC \n",
    "Select the mean meridional mass overturning streamfunction in the north Atlantic Ocean under ssp585 scenario"
   ]
  },
  {
   "cell_type": "code",
   "execution_count": null,
   "metadata": {},
   "outputs": [],
   "source": [
    "# List the file names\n",
    "msftyz_hist_1='~/geog0121_shared_space/cmip6_UKESM1_data/historical/msftyz_Omon_UKESM1-0-LL_historical_r1i1p1f2_gn_185001-194912.nc'\n",
    "msftyz_hist_2='~/geog0121_shared_space/cmip6_UKESM1_data/historical/msftyz_Omon_UKESM1-0-LL_historical_r1i1p1f2_gn_195001-201412.nc'\n",
    "msftyz_ssp585_1='~/geog0121_shared_space/cmip6_UKESM1_data/ssp585/msftyz_Omon_UKESM1-0-LL_ssp585_r1i1p1f2_gn_201501-204912.nc'\n",
    "msftyz_ssp585_2='~/geog0121_shared_space/cmip6_UKESM1_data/ssp585/msftyz_Omon_UKESM1-0-LL_ssp585_r1i1p1f2_gn_205001-210012.nc'"
   ]
  },
  {
   "cell_type": "code",
   "execution_count": null,
   "metadata": {},
   "outputs": [],
   "source": [
    "# Open the relevant files from the historical and ssp585 simulations   \n",
    "combined_dataset = xarray.open_mfdataset(paths=[msftyz_hist_1,msftyz_hist_2,msftyz_ssp585_1,msftyz_ssp585_2], autoclose=True)\n",
    "# Select only the North Atlantic (from 0-90oN and basin=0)\n",
    "streamfunction=combined_dataset.msftyz.sel(rlat=slice(0,90),basin=0) "
   ]
  },
  {
   "cell_type": "code",
   "execution_count": null,
   "metadata": {},
   "outputs": [],
   "source": [
    "# Made the DataArray a bit more useful\n",
    "streamfunction=1e-9*streamfunction   # convert units: 1 kg/s = 1*(10)^(-9) Sv\n",
    "sf=streamfunction.groupby(\"time.year\").mean()  # compute annual mean\n",
    "sf #print out some information about the resulting DataArray - including the dimensions"
   ]
  },
  {
   "cell_type": "code",
   "execution_count": null,
   "metadata": {},
   "outputs": [],
   "source": [
    "# plot a latitude-depth plot of the streamfunction during the 30 years centered on 2020\n",
    "AMOC_pattern=sf.sel(year=slice(2006,2030)).mean(dim='year')\n",
    "AMOC_pattern.plot(yincrease=False)"
   ]
  },
  {
   "cell_type": "code",
   "execution_count": null,
   "metadata": {},
   "outputs": [],
   "source": [
    "#plot a time series of the maximum streamfunction at 30oN below 500m\n",
    "AMOC_30N=sf.sel(rlat=slice(29,31),lev=slice(500,6000)).max(dim=('rlat','lev'))\n",
    "AMOC_30N.plot()"
   ]
  },
  {
   "cell_type": "markdown",
   "metadata": {},
   "source": [
    "# Machine specific options\n",
    "\n",
    "This code above is intended to be run on UCL's JupyterHub facility. However it might happen that you need to run this notebook on a different machine. In the cells below, you will find the code to run on the cluster in UCL Geography and on an python installation on your own machine respectively."
   ]
  },
  {
   "cell_type": "code",
   "execution_count": null,
   "metadata": {},
   "outputs": [],
   "source": [
    "# TAS - FOR THE GEOGRAPHY CLUSTER\n",
    "filename_hist_1='/data/CMIP/CMIP6/CMIP/MOHC/UKESM1-0-LL/historical/r1i1p1f2/Amon/tas/gn/v20190406/tas_Amon_UKESM1-0-LL_historical_r1i1p1f2_gn_185001-194912.nc'\n",
    "filename_hist_2='/data/CMIP/CMIP6/CMIP/MOHC/UKESM1-0-LL/historical/r1i1p1f2/Amon/tas/gn/v20190406/tas_Amon_UKESM1-0-LL_historical_r1i1p1f2_gn_195001-201412.nc'\n",
    "\n",
    "filename_ssp126_1='/data/CMIP/CMIP6/ScenarioMIP/MOHC/UKESM1-0-LL/ssp126/r1i1p1f2/Amon/tas/gn/v20190503/tas_Amon_UKESM1-0-LL_ssp126_r1i1p1f2_gn_201501-204912.nc'\n",
    "filename_ssp126_2='/data/CMIP/CMIP6/ScenarioMIP/MOHC/UKESM1-0-LL/ssp126/r1i1p1f2/Amon/tas/gn/v20190503/tas_Amon_UKESM1-0-LL_ssp126_r1i1p1f2_gn_205001-210012.nc'\n",
    "\n",
    "filename_ssp585_1='/data/CMIP/CMIP6/ScenarioMIP/MOHC/UKESM1-0-LL/ssp585/r1i1p1f2/Amon/tas/gn/v20190507/tas_Amon_UKESM1-0-LL_ssp585_r1i1p1f2_gn_201501-204912.nc'\n",
    "filename_ssp585_2='/data/CMIP/CMIP6/ScenarioMIP/MOHC/UKESM1-0-LL/ss585/r1i1p1f2/Amon/tas/gn/v20190507/tas_Amon_UKESM1-0-LL_ssp585_r1i1p1f2_gn_205001-210012.nc'"
   ]
  },
  {
   "cell_type": "code",
   "execution_count": null,
   "metadata": {},
   "outputs": [],
   "source": [
    "import os\n",
    "import urllib\n",
    "filename_hist_1='Data/tas_Amon_UKESM1-0-LL_historical_r1i1p1f2_gn_185001-194912.nc'\n",
    "if not os.path.isfile(filename_hist_1):\n",
    "    print('Downloading %s' %(filename_hist_1))\n",
    "    !mkdir Data\n",
    "    urllib.request.urlretrieve(\"http://www2.geog.ucl.ac.uk/~ucfaccb/geog0121/cmip6_UKESM1_data/historical/Amon/tas/gn/v20190406/tas_Amon_UKESM1-0-LL_historical_r1i1p1f2_gn_185001-194912.nc\",filename_hist_1)    \n",
    "\n",
    "filename_hist_2='Data/tas_Amon_UKESM1-0-LL_historical_r1i1p1f2_gn_195001-201412.nc'\n",
    "if not os.path.isfile(filename_hist_2):\n",
    "    print('Downloading %s' %(filename_hist_2))\n",
    "    urllib.request.urlretrieve(\"http://www2.geog.ucl.ac.uk/~ucfaccb/geog0121/cmip6_UKESM1_data/historical/Amon/tas/gn/v20190406/tas_Amon_UKESM1-0-LL_historical_r1i1p1f2_gn_195001-201412.nc\",filename_hist_2)    \n",
    "\n",
    "filename_ssp126_1='Data/tas_Amon_UKESM1-0-LL_ssp126_r1i1p1f2_gn_201501-204912.nc'\n",
    "if not os.path.isfile(filename_ssp126_1):\n",
    "    print('Downloading %s' %(filename_ssp126_1))\n",
    "    urllib.request.urlretrieve(\"http://www2.geog.ucl.ac.uk/~ucfaccb/geog0121/cmip6_UKESM1_data/ssp126/Amon/tas/gn/v20190503/tas_Amon_UKESM1-0-LL_ssp126_r1i1p1f2_gn_201501-204912.nc\",filename_ssp126_1)    \n",
    "\n",
    "filename_ssp126_2='Data/tas_Amon_UKESM1-0-LL_ssp126_r1i1p1f2_gn_205001-210012.nc'\n",
    "if not os.path.isfile(filename_ssp126_2):\n",
    "    print('Downloading %s' %(filename_ssp126_2))\n",
    "    urllib.request.urlretrieve(\"http://www2.geog.ucl.ac.uk/~ucfaccb/geog0121/cmip6_UKESM1_data/ssp126/Amon/tas/gn/v20190503/tas_Amon_UKESM1-0-LL_ssp126_r1i1p1f2_gn_205001-210012.nc\",filename_ssp126_2)    \n",
    "\n",
    "filename_ssp585_1='Data/tas_Amon_UKESM1-0-LL_ssp585_r1i1p1f2_gn_201501-204912.nc'\n",
    "if not os.path.isfile(filename_ssp585_1):\n",
    "    print('Downloading %s' %(filename_ssp585_1))\n",
    "    urllib.request.urlretrieve(\"http://www2.geog.ucl.ac.uk/~ucfaccb/geog0121/cmip6_UKESM1_data/ssp585/Amon/tas/gn/v20190507/tas_Amon_UKESM1-0-LL_ssp585_r1i1p1f2_gn_201501-204912.nc\",filename_ssp585_1)    \n",
    "\n",
    "filename_ssp585_2='Data/tas_Amon_UKESM1-0-LL_ssp585_r1i1p1f2_gn_205001-210012.nc'\n",
    "if not os.path.isfile(filename_ssp585_2):\n",
    "    print('Downloading %s' %(filename_ssp585_2))\n",
    "    urllib.request.urlretrieve(\"http://www2.geog.ucl.ac.uk/~ucfaccb/geog0121/cmip6_UKESM1_data/ss585/Amon/tas/gn/v20190507/tas_Amon_UKESM1-0-LL_ssp585_r1i1p1f2_gn_205001-210012.nc\",filename_ssp585_2)    "
   ]
  },
  {
   "cell_type": "code",
   "execution_count": null,
   "metadata": {},
   "outputs": [],
   "source": [
    "# pr - FOR THE GEOGRAPHY CLUSTER\n",
    "rainfall_filename='/data/CMIP/CMIP6/CMIP/MOHC/UKESM1-0-LL/historical/Amon/pr/gn/v20190406/pr_Amon_UKESM1-0-LL_historical_r1i1p1f2_gn_195001-201412.nc' # pr historical run, year 1850-2014"
   ]
  },
  {
   "cell_type": "code",
   "execution_count": null,
   "metadata": {},
   "outputs": [],
   "source": [
    "# pr - FOR YOUR OWN MACHINE\n",
    "rainfall_filename='Data/pr_Amon_UKESM1-0-LL_historical_r1i1p1f2_gn_195001-201412.nc' # pr historical run, year 1850-2014\n",
    "#Download the files if they are not already here\n",
    "import os\n",
    "import urllib\n",
    "if not os.path.isfile(rainfall_filename):\n",
    "    print('Downloading %s' %(rainfall_filename))\n",
    "    !mkdir Data\n",
    "    urllib.request.urlretrieve(\"http://www2.geog.ucl.ac.uk/~ucfaccb/geog0121/cmip6_UKESM1_data/historical/Amon/pr/gn/v20190406/pr_Amon_UKESM1-0-LL_historical_r1i1p1f2_gn_195001-201412.nc\",rainfall_filename)    \n"
   ]
  },
  {
   "cell_type": "code",
   "execution_count": null,
   "metadata": {},
   "outputs": [],
   "source": [
    "# TA - FOR THE GEOGRAPHY CLUSTER\n",
    "ta_filename_370='/data/CMIP/CMIP6/ScenarioMIP/MOHC/UKESM1-0-LL/ssp370/r1i1p1f2/Amon/ta/gn/v20190510/ta_Amon_UKESM1-0-LL_ssp370_r1i1p1f2_gn_205001-210012.nc'\n",
    "ta_filename_hist='/data/CMIP/CMIP6/CMIP/MOHC/UKESM1-0-LL/historical/r1i1p1f2/Amon/ta/gn/v20190406/ta_Amon_UKESM1-0-LL_historical_r1i1p1f2_gn_185001-194912.nc'"
   ]
  },
  {
   "cell_type": "code",
   "execution_count": null,
   "metadata": {},
   "outputs": [],
   "source": [
    "# TA - FOR YOUR OWN MACHINE\n",
    "ta_filename_370='Data/ta_Amon_UKESM1-0-LL_ssp370_r1i1p1f2_gn_205001-210012.nc'\n",
    "ta_filename_hist='Data/ta_Amon_UKESM1-0-LL_historical_r1i1p1f2_gn_185001-194912.nc'\n",
    "#Download the files if they are not already here\n",
    "import os\n",
    "import urllib\n",
    "if not os.path.isfile(ta_filename_370):\n",
    "    print('Downloading %s' %(ta_filename_370))\n",
    "    !mkdir Data\n",
    "    urllib.request.urlretrieve(\"http://www2.geog.ucl.ac.uk/~ucfaccb/geog0121/cmip6_UKESM1_data/ssp370/Amon/ta/gn/v20190510/ta_Amon_UKESM1-0-LL_ssp370_r1i1p1f2_gn_205001-210012.nc\", ta_filename_370)    \n",
    "    \n",
    "if not os.path.isfile(ta_filename_hist):\n",
    "    print('Downloading %s' %(ta_filename_hist))\n",
    "    urllib.request.urlretrieve(\"http://www2.geog.ucl.ac.uk/~ucfaccb/geog0121/cmip6_UKESM1_data/historical/Amon/ta/gn/v20190406/ta_Amon_UKESM1-0-LL_historical_r1i1p1f2_gn_185001-194912.nc\", ta_filename_hist)"
   ]
  },
  {
   "cell_type": "code",
   "execution_count": null,
   "metadata": {},
   "outputs": [],
   "source": [
    "# WINDS - FOR THE GEOGRAPHY CLUSTER\n",
    "va_file='/data/CMIP/CMIP6/ScenarioMIP/MOHC/UKESM1-0-LL/ssp370/r1i1p1f2/Amon/va/gn/v20190510/va_Amon_UKESM1-0-LL_ssp370_r1i1p1f2_gn_201501-204912.nc'\n",
    "ua_file='/data/CMIP/CMIP6/ScenarioMIP/MOHC/UKESM1-0-LL/ssp370/r1i1p1f2/Amon/ua/gn/v20190510/ua_Amon_UKESM1-0-LL_ssp370_r1i1p1f2_gn_201501-204912.nc'"
   ]
  },
  {
   "cell_type": "code",
   "execution_count": null,
   "metadata": {},
   "outputs": [],
   "source": [
    "# WINDS -FOR YOUR OWN MACHINE\n",
    "va_file='Data/va_Amon_UKESM1-0-LL_ssp370_r1i1p1f2_gn_201501-204912.nc'\n",
    "ua_file='Data/ua_Amon_UKESM1-0-LL_ssp370_r1i1p1f2_gn_201501-204912.nc'\n",
    "#Download the files if they are not already here\n",
    "import os\n",
    "import urllib\n",
    "if not os.path.isfile(va_file):\n",
    "    !mkdir Data\n",
    "    urllib.request.urlretrieve(\"http://www2.geog.ucl.ac.uk/~ucfaccb/geog0121/cmip6_UKESM1_data/ssp370/Amon/va/gn/v20190510/va_Amon_UKESM1-0-LL_ssp370_r1i1p1f2_gn_201501-204912.nc\", va_file)\n",
    "    \n",
    "if not os.path.isfile(ua_file):\n",
    "    urllib.request.urlretrieve(\"http://www2.geog.ucl.ac.uk/~ucfaccb/geog0121/cmip6_UKESM1_data/ssp370/Amon/ua/gn/v20190510/ua_Amon_UKESM1-0-LL_ssp370_r1i1p1f2_gn_201501-204912.nc\", ua_file)\n"
   ]
  },
  {
   "cell_type": "code",
   "execution_count": null,
   "metadata": {},
   "outputs": [],
   "source": [
    "# SST - FOR THE GEOGRAPHY CLUSTER\n",
    "variable_name='tos'\n",
    "filename_a='/data/CMIP/CMIP6/CMIP/MOHC/UKESM1-0-LL/historical/r1i1p1f2/Omon/tos/gn/v20190406/tos_Omon_UKESM1-0-LL_historical_r1i1p1f2_gn_185001-194912.nc'\n",
    "filename_b='/data/CMIP/CMIP6/ScenarioMIP/MOHC/UKESM1-0-LL/ssp370/r1i1p1f2/Omon/tos/gn/v20190510/tos_Omon_UKESM1-0-LL_ssp370_r1i1p1f2_gn_205001-210012.nc'"
   ]
  },
  {
   "cell_type": "code",
   "execution_count": null,
   "metadata": {},
   "outputs": [],
   "source": [
    "# SST - FOR YOUR OWN MACHINE\n",
    "variable_name='tos'\n",
    "filename_a='Data/tos_Omon_UKESM1-0-LL_historical_r1i1p1f2_gn_185001-194912.nc'\n",
    "filename_b='Data/tos_Omon_UKESM1-0-LL_ssp370_r1i1p1f2_gn_205001-210012.nc'\n",
    "\n",
    "#Download the files if they are not already here\n",
    "import os\n",
    "import urllib\n",
    "if not os.path.isfile(filename_a):\n",
    "    print('Downloading %s' %(filename_a))\n",
    "    !mkdir Data\n",
    "    urllib.request.urlretrieve(\"http://www2.geog.ucl.ac.uk/~ucfaccb/geog0121/cmip6_UKESM1_data/historical/Omon/tos/gn/v20190406/tos_Omon_UKESM1-0-LL_historical_r1i1p1f2_gn_185001-194912.nc\", filename_a)\n",
    "    \n",
    "if not os.path.isfile(filename_b):\n",
    "    print('Downloading %s' %(filename_b))\n",
    "    urllib.request.urlretrieve(\"http://www2.geog.ucl.ac.uk/~ucfaccb/geog0121/cmip6_UKESM1_data/ssp370/Omon/tos/gn/v20190510/tos_Omon_UKESM1-0-LL_ssp370_r1i1p1f2_gn_205001-210012.nc\", filename_b)    \n"
   ]
  }
 ],
 "metadata": {
  "kernelspec": {
   "display_name": "conda env:geog0121",
   "language": "python",
   "name": "conda-env-geog0121"
  },
  "language_info": {
   "codemirror_mode": {
    "name": "ipython",
    "version": 3
   },
   "file_extension": ".py",
   "mimetype": "text/x-python",
   "name": "python",
   "nbconvert_exporter": "python",
   "pygments_lexer": "ipython3",
   "version": "3.7.8"
  }
 },
 "nbformat": 4,
 "nbformat_minor": 4
}
