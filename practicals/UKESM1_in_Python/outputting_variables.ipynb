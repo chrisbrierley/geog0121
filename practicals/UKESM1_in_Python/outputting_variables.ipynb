{
 "cells": [
  {
   "cell_type": "markdown",
   "metadata": {},
   "source": [
    "# Save variables to a new netcdf4 file\n",
    "\n",
    "This notebook shows how to save some calculations you've performed into a new netcdf file. This is really useful if you want to come back it later."
   ]
  },
  {
   "cell_type": "markdown",
   "metadata": {},
   "source": [
    "### Import packages and define functions for calculations"
   ]
  },
  {
   "cell_type": "code",
   "execution_count": 4,
   "metadata": {},
   "outputs": [],
   "source": [
    "'''Import packages for loading data, analysing, and plotting'''\n",
    "\n",
    "import xarray as xr\n",
    "from netCDF4 import Dataset"
   ]
  },
  {
   "cell_type": "markdown",
   "metadata": {},
   "source": [
    "#### Load in some dummy data\n",
    "This is necessary so that we have something to output. Here we are choosing the interannual variability in sea level pressure "
   ]
  },
  {
   "cell_type": "code",
   "execution_count": 1,
   "metadata": {},
   "outputs": [],
   "source": [
    "# FOR THE GEOGRAPHY CLUSTER\n",
    "\n",
    "'''Select file and variable names'''\n",
    "#first of all specify some names\n",
    "reference_period='1851-1900'\n",
    "ssp_names=[\"ssp126\", \"ssp245\", \"ssp370\",\"ssp585\"]\n",
    "directory='/data/aod/cvdp_cmip6/geog0121/UKESM1-0-LL_ssps.wrt_%s' %reference_period\n",
    "#Start with SSP370\n",
    "# determine it's filename\n",
    "filename='%s/UKESM1_%s_%s.cvdp_data.1850-2100.nc'%(directory,ssp_names[3],reference_period)"
   ]
  },
  {
   "cell_type": "code",
   "execution_count": 2,
   "metadata": {},
   "outputs": [
    {
     "name": "stderr",
     "output_type": "stream",
     "text": [
      "A subdirectory or file Data already exists.\n"
     ]
    }
   ],
   "source": [
    "#FOR YOUR OWN LAPTOP\n",
    "'''Select file and variable names'''\n",
    "filename=\"Data/UKESM1_ssp370_1851-1900.cvdp_data.1850-2100.nc\"\n",
    "#Download the files if they are not already here\n",
    "import os\n",
    "import urllib\n",
    "if not os.path.isfile(filename):\n",
    "    !mkdir Data\n",
    "    urllib.request.urlretrieve(\"http://www2.geog.ucl.ac.uk/~ucfaccb/geog0121/downloads/UKESM1_ssp370_1851-1900.cvdp_data.1850-2100.nc\", filename)\n",
    "    "
   ]
  },
  {
   "cell_type": "code",
   "execution_count": 5,
   "metadata": {},
   "outputs": [
    {
     "data": {
      "text/html": [
       "<pre>&lt;xarray.DataArray &#x27;psl_spatialstddev_ann&#x27; (lat: 144, lon: 192)&gt;\n",
       "array([[1.657265, 1.657062, 1.656911, ..., 1.657851, 1.657638, 1.657439],\n",
       "       [1.588344, 1.588433, 1.588682, ..., 1.588519, 1.588354, 1.588306],\n",
       "       [1.576005, 1.576614, 1.577273, ..., 1.574328, 1.574547, 1.575317],\n",
       "       ...,\n",
       "       [2.099676, 2.10872 , 2.117839, ..., 2.073099, 2.081814, 2.090667],\n",
       "       [2.16448 , 2.170044, 2.175649, ..., 2.14832 , 2.153625, 2.158985],\n",
       "       [2.229281, 2.231105, 2.232952, ..., 2.223978, 2.225705, 2.227485]],\n",
       "      dtype=float32)\n",
       "Coordinates:\n",
       "  * lat      (lat) float64 -89.38 -88.12 -86.88 -85.62 ... 86.88 88.12 89.38\n",
       "  * lon      (lon) float64 0.9375 2.812 4.688 6.562 ... 353.4 355.3 357.2 359.1\n",
       "Attributes:\n",
       "    standard_name:  air_pressure_at_mean_sea_level\n",
       "    long_name:      psl standard deviation (annual)\n",
       "    comment:        Sea Level Pressure\n",
       "    units:          hPa\n",
       "    original_name:  mo: (stash: m01s16i222, lbproc: 128)\n",
       "    history:        2019-04-05T16:01:24Z altered by CMOR: replaced missing va...</pre>"
      ],
      "text/plain": [
       "<xarray.DataArray 'psl_spatialstddev_ann' (lat: 144, lon: 192)>\n",
       "array([[1.657265, 1.657062, 1.656911, ..., 1.657851, 1.657638, 1.657439],\n",
       "       [1.588344, 1.588433, 1.588682, ..., 1.588519, 1.588354, 1.588306],\n",
       "       [1.576005, 1.576614, 1.577273, ..., 1.574328, 1.574547, 1.575317],\n",
       "       ...,\n",
       "       [2.099676, 2.10872 , 2.117839, ..., 2.073099, 2.081814, 2.090667],\n",
       "       [2.16448 , 2.170044, 2.175649, ..., 2.14832 , 2.153625, 2.158985],\n",
       "       [2.229281, 2.231105, 2.232952, ..., 2.223978, 2.225705, 2.227485]],\n",
       "      dtype=float32)\n",
       "Coordinates:\n",
       "  * lat      (lat) float64 -89.38 -88.12 -86.88 -85.62 ... 86.88 88.12 89.38\n",
       "  * lon      (lon) float64 0.9375 2.812 4.688 6.562 ... 353.4 355.3 357.2 359.1\n",
       "Attributes:\n",
       "    standard_name:  air_pressure_at_mean_sea_level\n",
       "    long_name:      psl standard deviation (annual)\n",
       "    comment:        Sea Level Pressure\n",
       "    units:          hPa\n",
       "    original_name:  mo: (stash: m01s16i222, lbproc: 128)\n",
       "    history:        2019-04-05T16:01:24Z altered by CMOR: replaced missing va..."
      ]
     },
     "execution_count": 5,
     "metadata": {},
     "output_type": "execute_result"
    }
   ],
   "source": [
    "# open the file to get the data\n",
    "ssp370=xr.open_dataset(filename)\n",
    "field_for_output=ssp370['psl_spatialstddev_ann']\n",
    "field_for_output"
   ]
  },
  {
   "cell_type": "markdown",
   "metadata": {},
   "source": [
    "This field has a sufficient amount metadata. So we can just output it directly using xarray"
   ]
  },
  {
   "cell_type": "code",
   "execution_count": 6,
   "metadata": {},
   "outputs": [],
   "source": [
    "field_for_output.to_netcdf('my_xarray_filename.nc','w')"
   ]
  },
  {
   "cell_type": "markdown",
   "metadata": {},
   "source": [
    "If your calculation had ended up stripping out the metadata, then you need to do things in a more longwinded fashion, but NetCDF4's Dataset command"
   ]
  },
  {
   "cell_type": "code",
   "execution_count": 7,
   "metadata": {},
   "outputs": [],
   "source": [
    "# Adding some latitudes and longitudes into my workspace\n",
    "lon=ssp370['lon']\n",
    "lat=ssp370['lat']\n",
    "\n",
    "#Create a nc file to save data\n",
    "d=Dataset('my_netcdf4_filename.nc','w',format='NETCDF4')\n",
    "\n",
    "#First write out the required dimensions to it\n",
    "d.createDimension('lon',lon.shape[0])  \n",
    "d.createDimension('lat',lat.shape[0])  \n",
    "d.createVariable(\"lon\",'f',(\"lon\"))  \n",
    "d.createVariable(\"lat\",'f',(\"lat\"))  \n",
    "d.variables['lat'][:]=lat     \n",
    "d.variables['lon'][:]=lon\n",
    "\n",
    "#Then you can write the variable itself\n",
    "variable_name='psl_spatialstddev_ann'\n",
    "d.createVariable(variable_name,'f',('lat','lon'))\n",
    "d.variables[variable_name][:]=field_for_output #variable you want to save    \n",
    "\n",
    "#Finally close the dataset\n",
    "d.close()"
   ]
  },
  {
   "cell_type": "markdown",
   "metadata": {},
   "source": [
    "And now we can look at what netcdf files are in our directory"
   ]
  },
  {
   "cell_type": "code",
   "execution_count": 10,
   "metadata": {},
   "outputs": [
    {
     "name": "stdout",
     "output_type": "stream",
     "text": [
      "my_netcdf4_filename.nc\n",
      "my_xarray_filename.nc\n"
     ]
    }
   ],
   "source": [
    "import os\n",
    "items = os.listdir(\".\")\n",
    "\n",
    "#loop over all the files and only print the ones ending with .nc\n",
    "for names in items:\n",
    "    if names.endswith(\".nc\"):\n",
    "        print(names)"
   ]
  },
  {
   "cell_type": "code",
   "execution_count": null,
   "metadata": {},
   "outputs": [],
   "source": []
  }
 ],
 "metadata": {
  "kernelspec": {
   "display_name": "Python 3",
   "language": "python",
   "name": "python3"
  },
  "language_info": {
   "codemirror_mode": {
    "name": "ipython",
    "version": 3
   },
   "file_extension": ".py",
   "mimetype": "text/x-python",
   "name": "python",
   "nbconvert_exporter": "python",
   "pygments_lexer": "ipython3",
   "version": "3.6.10"
  }
 },
 "nbformat": 4,
 "nbformat_minor": 2
}
