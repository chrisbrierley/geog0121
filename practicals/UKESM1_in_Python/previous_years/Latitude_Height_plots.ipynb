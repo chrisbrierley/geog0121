{
 "cells": [
  {
   "cell_type": "markdown",
   "metadata": {},
   "source": [
    "# Vertical structure\n",
    "\n",
    "This notebook demonstrates how to create a zonal mean warming pattern in the atmosphere"
   ]
  },
  {
   "cell_type": "markdown",
   "metadata": {},
   "source": [
    "### Import packages and define fucntions for calculations"
   ]
  },
  {
   "cell_type": "code",
   "execution_count": 1,
   "metadata": {},
   "outputs": [],
   "source": [
    "'''Import packages for loading data, analysing, and plotting'''\n",
    "\n",
    "import xarray as xr\n",
    "import matplotlib.pyplot as plt\n",
    "import numpy as np\n",
    "import pandas as pd\n",
    "\n",
    "%matplotlib inline\n",
    "import cartopy\n",
    "import cartopy.crs as ccrs\n",
    "import matplotlib\n",
    "from netCDF4 import Dataset\n",
    "from mpl_toolkits.axes_grid1 import make_axes_locatable\n",
    "import numpy.ma as ma\n",
    "\n",
    "\n",
    "import os\n",
    "import matplotlib.colors as colors\n",
    "\n",
    "import scipy\n",
    "from cartopy.util import add_cyclic_point\n",
    "import matplotlib.ticker as mticker\n",
    "from cartopy.mpl.gridliner import LONGITUDE_FORMATTER, LATITUDE_FORMATTER\n"
   ]
  },
  {
   "cell_type": "markdown",
   "metadata": {},
   "source": [
    "## Open the 3D fields and compute the differences "
   ]
  },
  {
   "cell_type": "code",
   "execution_count": 2,
   "metadata": {},
   "outputs": [],
   "source": [
    "# FOR THE GEOGRAPHY CLUSTER\n",
    "\n",
    "variable_name='ta'\n",
    "filename_a='/data/CMIP/CMIP6/ScenarioMIP/MOHC/UKESM1-0-LL/ssp370/r1i1p1f2/Amon/ta/gn/v20190510/ta_Amon_UKESM1-0-LL_ssp370_r1i1p1f2_gn_205001-210012.nc'\n",
    "filename_b='/data/CMIP/CMIP6/CMIP/MOHC/UKESM1-0-LL/historical/r1i1p1f2/Amon/ta/gn/v20190406/ta_Amon_UKESM1-0-LL_historical_r1i1p1f2_gn_185001-194912.nc'\n"
   ]
  },
  {
   "cell_type": "code",
   "execution_count": 3,
   "metadata": {},
   "outputs": [],
   "source": [
    "# FOR THE OWN LAPTOP: THIS REQUIRES PRIOR KNOWLEDGE OF THE FILE NAMES.\n",
    "# EACH FILE IS AROUND 1 GiB! AND THIS IS THE EDGE OF MY (small) LAPTOP'S CAPABILITIES\n",
    "\n",
    "variable_name='ta'\n",
    "filename_a='Data/ta_Amon_UKESM1-0-LL_ssp370_r1i1p1f2_gn_205001-210012.nc'\n",
    "filename_b='Data/ta_Amon_UKESM1-0-LL_historical_r1i1p1f2_gn_185001-194912.nc'\n",
    "#Download the files if they are not already here\n",
    "import os\n",
    "import urllib\n",
    "if not os.path.isfile(filename_a):\n",
    "    print('Downloading %s' %(filename_a))\n",
    "    !mkdir Data\n",
    "    urllib.request.urlretrieve(\"http://www2.geog.ucl.ac.uk/~ucfaccb/geog0121/cmip6_UKESM1_data/ssp370/Amon/ta/gn/v20190510/ta_Amon_UKESM1-0-LL_ssp370_r1i1p1f2_gn_205001-210012.nc\", filename_a)    \n",
    "    \n",
    "if not os.path.isfile(filename_b):\n",
    "    print('Downloading %s' %(filename_b))\n",
    "    urllib.request.urlretrieve(\"http://www2.geog.ucl.ac.uk/~ucfaccb/geog0121/cmip6_UKESM1_data/historical/Amon/ta/gn/v20190406/ta_Amon_UKESM1-0-LL_historical_r1i1p1f2_gn_185001-194912.nc\", filename_b)\n"
   ]
  },
  {
   "cell_type": "code",
   "execution_count": 4,
   "metadata": {},
   "outputs": [],
   "source": [
    "#This cell actually load the 3D data\n",
    "expt_a_file=Dataset(filename_a)\n",
    "expt_a=expt_a_file[variable_name][:]\n",
    "lat=expt_a_file['lat'][:]\n",
    "lon=expt_a_file['lon'][:]\n",
    "lev=expt_a_file['plev'][:]\n",
    "expt_b_file=Dataset(filename_b)\n",
    "expt_b=expt_b_file[variable_name][:]\n",
    "expt_a_file.close()\n",
    "expt_b_file.close()"
   ]
  },
  {
   "cell_type": "code",
   "execution_count": 5,
   "metadata": {},
   "outputs": [],
   "source": [
    "# Now we take the time-averages\n",
    "ta_a=np.average(expt_a,axis=0)\n",
    "ta_b=np.average(expt_b,axis=0)"
   ]
  },
  {
   "cell_type": "code",
   "execution_count": 6,
   "metadata": {},
   "outputs": [],
   "source": [
    "# And compute the difference between them\n",
    "diff=ta_a-ta_b\n",
    "\n",
    "#This is still 3D, so we need to compute the zonal mean\n",
    "zonal_diff=np.nanmean(np.array(diff),axis=2)"
   ]
  },
  {
   "cell_type": "markdown",
   "metadata": {},
   "source": [
    "## Plot a vertical profile of atmosphere"
   ]
  },
  {
   "cell_type": "code",
   "execution_count": 7,
   "metadata": {},
   "outputs": [
    {
     "data": {
      "text/plain": [
       "<matplotlib.colorbar.Colorbar at 0x1a224026e80>"
      ]
     },
     "execution_count": 7,
     "metadata": {},
     "output_type": "execute_result"
    },
    {
     "data": {
      "image/png": "[encoded data removed]",
      "text/plain": [
       "<Figure size 720x504 with 2 Axes>"
      ]
     },
     "metadata": {
      "needs_background": "light"
     },
     "output_type": "display_data"
    }
   ],
   "source": [
    "cmap=plt.get_cmap('bwr') #define colormap\n",
    "\n",
    "#define colormap's range and scale\n",
    "\n",
    "bounds = [-10,-7,-5,-3,-2,-1,0,1,2,3,5,7,10]\n",
    "norm = colors.BoundaryNorm(boundaries=bounds, ncolors=256)\n",
    "\n",
    "\n",
    "plt.figure(figsize=(10,7))\n",
    "\n",
    "ax = plt.axes()\n",
    "fig=ax.contourf(lat,lev*0.01,np.array(zonal_diff),levels=bounds,cmap=cmap,norm=norm)\n",
    "ax.invert_yaxis()\n",
    "\n",
    "\n",
    "cax,kw = matplotlib.colorbar.make_axes(ax,location='bottom',pad=0.05,shrink=0.7)\n",
    "plt.colorbar(fig,cax=cax,extend='both',**kw)"
   ]
  },
  {
   "cell_type": "markdown",
   "metadata": {},
   "source": [
    "This plot shows that only the troposphere is warming - the stratosphere (upper atmosphere) is cooling. The higher you go into the troposphere the more it warms, especially over the Equator. The Arctic (on the right) is warming more than the rest of the globe. "
   ]
  }
 ],
 "metadata": {
  "kernelspec": {
   "display_name": "Python 3",
   "language": "python",
   "name": "python3"
  },
  "language_info": {
   "codemirror_mode": {
    "name": "ipython",
    "version": 3
   },
   "file_extension": ".py",
   "mimetype": "text/x-python",
   "name": "python",
   "nbconvert_exporter": "python",
   "pygments_lexer": "ipython3",
   "version": "3.6.10"
  }
 },
 "nbformat": 4,
 "nbformat_minor": 2
}
