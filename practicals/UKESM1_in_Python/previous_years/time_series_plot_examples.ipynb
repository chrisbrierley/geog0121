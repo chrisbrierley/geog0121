{
 "cells": [
  {
   "cell_type": "markdown",
   "metadata": {},
   "source": [
    "# Introduction\n",
    "\n",
    "This notebook demonstrates how to plot time series from the UKESM1 simulations"
   ]
  },
  {
   "cell_type": "markdown",
   "metadata": {},
   "source": [
    "#### Firstly, import packages and define functions for calculations"
   ]
  },
  {
   "cell_type": "code",
   "execution_count": 1,
   "metadata": {},
   "outputs": [],
   "source": [
    "'''Import packages for loading data, analysing, and plotting'''\n",
    "import xarray as xr\n",
    "import matplotlib.pyplot as plt\n",
    "import numpy as np\n",
    "%matplotlib inline"
   ]
  },
  {
   "cell_type": "markdown",
   "metadata": {},
   "source": [
    "# Plotting time series computed by the CVDP package\n",
    "\n",
    "The Climate Variability Diagnostics Package computes a whole bunch of time series. Some of then, such as the Nino3.4 index, need to be treated with caution. But some are really useful."
   ]
  },
  {
   "cell_type": "markdown",
   "metadata": {},
   "source": [
    "*Run only one of the following two cells depending whether your Notebook server is at UCL or on your own laptop*  "
   ]
  },
  {
   "cell_type": "code",
   "execution_count": null,
   "metadata": {},
   "outputs": [],
   "source": [
    "#FOR THE GEOGRAPHY CLUSTER\n",
    "'''Select file and variable names'''\n",
    "#first of all specify some names\n",
    "reference_period='1851-1900'\n",
    "ssp_names=[\"ssp126\", \"ssp245\", \"ssp370\",\"ssp585\"]\n",
    "directory='/data/aod/cvdp_cmip6/geog0121/UKESM1-0-LL_ssps.wrt_%s' %reference_period\n",
    "\n",
    "# determine the filenames for the 3 scenarios\n",
    "filename126='%s/UKESM1_%s_%s.cvdp_data.1850-2100.nc'%(directory,ssp_names[0],reference_period)\n",
    "filename245='%s/UKESM1_%s_%s.cvdp_data.1850-2100.nc'%(directory,ssp_names[1],reference_period)\n",
    "filename585='%s/UKESM1_%s_%s.cvdp_data.1850-2100.nc'%(directory,ssp_names[3],reference_period)\n"
   ]
  },
  {
   "cell_type": "code",
   "execution_count": null,
   "metadata": {},
   "outputs": [],
   "source": [
    "#FOR YOUR OWN LAPTOP\n",
    "'''Select file and variable names'''\n",
    "#first of all specify some names\n",
    "reference_period='1851-1900'\n",
    "ssp_names=[\"ssp126\", \"ssp245\", \"ssp370\",\"ssp585\"]\n",
    "directory='Data'\n",
    "\n",
    "# determine the filenames for the 3 scenarios\n",
    "filename126='%s/UKESM1_%s_%s.cvdp_data.1850-2100.nc'%(directory,ssp_names[0],reference_period)\n",
    "filename245='%s/UKESM1_%s_%s.cvdp_data.1850-2100.nc'%(directory,ssp_names[1],reference_period)\n",
    "filename585='%s/UKESM1_%s_%s.cvdp_data.1850-2100.nc'%(directory,ssp_names[3],reference_period)\n",
    "\n",
    "#Download the files if they are not already here\n",
    "import os\n",
    "import urllib\n",
    "if not os.path.isfile(filename126):\n",
    "    !mkdir Data\n",
    "    urllib.request.urlretrieve(\"http://www2.geog.ucl.ac.uk/~ucfaccb/geog0121/downloads/UKESM1_ssp126_1851-1900.cvdp_data.1850-2100.nc\", filename126)\n",
    "    \n",
    "if not os.path.isfile(filename245):\n",
    "    urllib.request.urlretrieve(\"http://www2.geog.ucl.ac.uk/~ucfaccb/geog0121/downloads/UKESM1_ssp245_1851-1900.cvdp_data.1850-2100.nc\", filename245)\n",
    "    \n",
    "if not os.path.isfile(filename585):\n",
    "    urllib.request.urlretrieve(\"http://www2.geog.ucl.ac.uk/~ucfaccb/geog0121/downloads/UKESM1_ssp585_1851-1900.cvdp_data.1850-2100.nc\", filename585)    "
   ]
  },
  {
   "cell_type": "markdown",
   "metadata": {},
   "source": [
    "#### Plot the global mean temperature changes in the two extreme scenarios\n",
    "This is equivalent to the Fig SPM.7a in the IPCC's 5th assessment report"
   ]
  },
  {
   "cell_type": "code",
   "execution_count": null,
   "metadata": {},
   "outputs": [],
   "source": [
    "#Start with SSP126\n",
    "# open the file to get the data\n",
    "ssp126=xr.open_dataset(filename126)\n",
    "# create a plot of the variable called ipcc_GLOBAL_all_tas\n",
    "ssp126.ipcc_GLOBAL_all_tas.plot() #by default the first line is blue\n",
    "\n",
    "#Then move onto SSP585\n",
    "# open the file to get the data\n",
    "ssp585=xr.open_dataset(filename585)\n",
    "# create a plot of the variable called ipcc_GLOBAL_all_tas\n",
    "ssp585.ipcc_GLOBAL_all_tas.plot() #by default the second line is orange"
   ]
  },
  {
   "cell_type": "markdown",
   "metadata": {},
   "source": [
    "#### Plot the nino34 index in the ssp245 scenario\n",
    "The Niño3.4 index is measured as area-averaged temperature anomalies over a region of the tropical Pacific. As the globe warms, this region also warms (as shown in the plot below).\n",
    "\n",
    "But this does not mean that we will be locked into a permanent El Niño state (you can still observe the strong interannual variability in the time series). The Bjerknes feedbacks depend on the temperature gradients, instead of the absolute value in the Niño3.4 region. So you need to exercise some judgement when discussing the plot below"
   ]
  },
  {
   "cell_type": "code",
   "execution_count": null,
   "metadata": {},
   "outputs": [],
   "source": [
    "# open the ssp245 CVDP file to get the data\n",
    "ssp245=xr.open_dataset(filename245)\n",
    "\n",
    "# create a plot of the variable called nino34.\n",
    "ssp245.nino34.plot(color='green')  #We've overridden the default color"
   ]
  },
  {
   "cell_type": "markdown",
   "metadata": {},
   "source": [
    "To modify a plot to be more visually appealing, and to save it we need to do a little bit more..."
   ]
  },
  {
   "cell_type": "code",
   "execution_count": null,
   "metadata": {},
   "outputs": [],
   "source": [
    "# Remake the plot as an explicit object called fig\n",
    "fig=ssp245.nino34.plot(color='green') \n",
    "\n",
    "# relabel the y axis\n",
    "plt.ylabel('nino3.4 anomalies in SSP245 (wrt 1850-1900, oC)')\n",
    "# relabel the x axis\n",
    "plt.xlabel('Year')\n",
    "\n",
    "#Constraining the horizontal axis is more awkward\n",
    "import cftime as cftime\n",
    "start_date=cftime.Datetime360Day(1850,1,1,0,0,0)\n",
    "end_date=cftime.Datetime360Day(2100,12,30,0,0,0)\n",
    "# alter the limits of the axes\n",
    "plt.axis([start_date,end_date, -4, 6]) #[xmin, xmax, ymin, ymax]; Note that the years are strings \n",
    "# add a grid in the background\n",
    "plt.grid(True)\n",
    "\n",
    "#Finally save the figure to your current directory...\n",
    "plt.savefig(\"nino34_timeseries_plot.pdf\")"
   ]
  },
  {
   "cell_type": "markdown",
   "metadata": {},
   "source": [
    "# Computing and plotting a time series directly from the UKESM1 output\n",
    "This approach is much more flexible, as you can plot whatever you want. However, it also takes a fair bit longer to do, as you are interacting with monthly 2D or 3D fields. Here we will demonstrate the necessary steps, by recreating one of the global mean time series above.\n"
   ]
  },
  {
   "cell_type": "markdown",
   "metadata": {},
   "source": [
    "*Run only one of the following two cells depending whether your Notebook server is at UCL or on your own laptop*  "
   ]
  },
  {
   "cell_type": "code",
   "execution_count": null,
   "metadata": {},
   "outputs": [],
   "source": [
    "# FOR THE GEOGRAPHY CLUSTER: THIS IS MORE FLEXIBLE\n",
    "\n",
    "#Identify a long globbing string that will pick up all the historical and ssp585 surface temperature files in a single go.\n",
    "cmip_variable_name='tas'\n",
    "ssp='ssp585'\n",
    "directory='/data/CMIP/CMIP6/CMIP/MOHC/UKESM1-0-LL/historical/r1i1p1f2/*/%s/gn/v*' %(cmip_variable_name)\n",
    "hist_string='%s/%s_*_UKESM1-0-LL_*_r1i1p1f2_gn_*.nc '%(directory,cmip_variable_name)\n",
    "directory='/data/CMIP/CMIP6/ScenarioMIP/MOHC/UKESM1-0-LL/%s/r1i1p1f2/*/%s/gn/v*' %(ssp,cmip_variable_name)\n",
    "ssp_string='%s/%s_*_UKESM1-0-LL_*_r1i1p1f2_gn_*.nc'%(directory,cmip_variable_name)\n",
    "# Now use the shell (bash in the linux system) to detect the file names\n",
    "files = !ls {hist_string} {ssp_string}\n",
    "files"
   ]
  },
  {
   "cell_type": "code",
   "execution_count": 2,
   "metadata": {},
   "outputs": [
    {
     "data": {
      "text/plain": [
       "['Data/tas_Amon_UKESM1-0-LL_historical_r1i1p1f2_gn_185001-194912.nc',\n",
       " 'Data/tas_Amon_UKESM1-0-LL_historical_r1i1p1f2_gn_195001-201412.nc',\n",
       " 'Data/tas_Amon_UKESM1-0-LL_ssp585_r1i1p1f2_gn_201501-204912.nc',\n",
       " 'Data/tas_Amon_UKESM1-0-LL_ssp585_r1i1p1f2_gn_205001-210012.nc']"
      ]
     },
     "execution_count": 2,
     "metadata": {},
     "output_type": "execute_result"
    }
   ],
   "source": [
    "# FOR THE OWN LAPTOP: THIS REQUIRES PRIOR KNOWLEDGE OF THE FILE NAMES\n",
    "\n",
    "#Identify all the required files and associated urls if they have not already been downloaded\n",
    "files=['Data/tas_Amon_UKESM1-0-LL_historical_r1i1p1f2_gn_185001-194912.nc',\n",
    "       'Data/tas_Amon_UKESM1-0-LL_historical_r1i1p1f2_gn_195001-201412.nc',\n",
    "       'Data/tas_Amon_UKESM1-0-LL_ssp585_r1i1p1f2_gn_201501-204912.nc',\n",
    "       'Data/tas_Amon_UKESM1-0-LL_ssp585_r1i1p1f2_gn_205001-210012.nc']\n",
    "urls=['http://www2.geog.ucl.ac.uk/~ucfaccb/geog0121/cmip6_UKESM1_data/historical/Amon/tas/gn/v20190406/tas_Amon_UKESM1-0-LL_historical_r1i1p1f2_gn_185001-194912.nc',\n",
    "     'http://www2.geog.ucl.ac.uk/~ucfaccb/geog0121/cmip6_UKESM1_data/historical/Amon/tas/gn/v20190406/tas_Amon_UKESM1-0-LL_historical_r1i1p1f2_gn_195001-201412.nc',\n",
    "     'http://www2.geog.ucl.ac.uk/~ucfaccb/geog0121/cmip6_UKESM1_data/ssp585/Amon/tas/gn/v20190507/tas_Amon_UKESM1-0-LL_ssp585_r1i1p1f2_gn_201501-204912.nc',\n",
    "     'http://www2.geog.ucl.ac.uk/~ucfaccb/geog0121/cmip6_UKESM1_data/ssp585/Amon/tas/gn/v20190507/tas_Amon_UKESM1-0-LL_ssp585_r1i1p1f2_gn_205001-210012.nc']\n",
    "\n",
    "#Download the files if they are not already here\n",
    "import os\n",
    "import urllib\n",
    "for i in range(0, 4):\n",
    "    if not os.path.isfile(files[i]):\n",
    "        print('Downloading file %s' %(i))\n",
    "        !mkdir Data \n",
    "        #This should flag an error, if the directory already exists. \n",
    "        urllib.request.urlretrieve(urls[i],files[i])\n",
    "\n",
    "files"
   ]
  },
  {
   "cell_type": "code",
   "execution_count": 11,
   "metadata": {},
   "outputs": [
    {
     "data": {
      "text/html": [
       "<pre>&lt;xarray.Dataset&gt;\n",
       "Dimensions:    (bnds: 2, lat: 144, lon: 192, time: 3012)\n",
       "Coordinates:\n",
       "    height     float64 1.5\n",
       "  * lat        (lat) float64 -89.38 -88.12 -86.88 -85.62 ... 86.88 88.12 89.38\n",
       "  * lon        (lon) float64 0.9375 2.812 4.688 6.562 ... 355.3 357.2 359.1\n",
       "  * time       (time) object 1850-01-16 00:00:00 ... 2100-12-16 00:00:00\n",
       "Dimensions without coordinates: bnds\n",
       "Data variables:\n",
       "    time_bnds  (time, bnds) object dask.array&lt;chunksize=(1200, 2), meta=np.ndarray&gt;\n",
       "    lat_bnds   (time, lat, bnds) float64 dask.array&lt;chunksize=(1200, 144, 2), meta=np.ndarray&gt;\n",
       "    lon_bnds   (time, lon, bnds) float64 dask.array&lt;chunksize=(1200, 192, 2), meta=np.ndarray&gt;\n",
       "    tas        (time, lat, lon) float32 dask.array&lt;chunksize=(1200, 144, 192), meta=np.ndarray&gt;\n",
       "Attributes:\n",
       "    Conventions:            CF-1.7 CMIP-6.2\n",
       "    activity_id:            CMIP\n",
       "    branch_method:          standard\n",
       "    branch_time_in_child:   0.0\n",
       "    branch_time_in_parent:  144000.0\n",
       "    creation_date:          2019-04-05T16:02:56Z\n",
       "    cv_version:             6.2.20.1\n",
       "    data_specs_version:     01.00.29\n",
       "    experiment:             all-forcing simulation of the recent past\n",
       "    experiment_id:          historical\n",
       "    external_variables:     areacella\n",
       "    forcing_index:          2\n",
       "    frequency:              mon\n",
       "    further_info_url:       https://furtherinfo.es-doc.org/CMIP6.MOHC.UKESM1-...\n",
       "    grid:                   Native N96 grid; 192 x 144 longitude/latitude\n",
       "    grid_label:             gn\n",
       "    history:                2019-04-05T15:50:03Z ; CMOR rewrote data to be co...\n",
       "    initialization_index:   1\n",
       "    institution:            Met Office Hadley Centre, Fitzroy Road, Exeter, D...\n",
       "    institution_id:         MOHC\n",
       "    mip_era:                CMIP6\n",
       "    mo_runid:               u-bc179\n",
       "    nominal_resolution:     250 km\n",
       "    parent_activity_id:     CMIP\n",
       "    parent_experiment_id:   piControl\n",
       "    parent_mip_era:         CMIP6\n",
       "    parent_source_id:       UKESM1-0-LL\n",
       "    parent_time_units:      days since 1850-01-01-00-00-00\n",
       "    parent_variant_label:   r1i1p1f2\n",
       "    physics_index:          1\n",
       "    product:                model-output\n",
       "    realization_index:      1\n",
       "    realm:                  atmos\n",
       "    source:                 UKESM1.0-LL (2018): \\naerosol: UKCA-GLOMAP-mode\\n...\n",
       "    source_id:              UKESM1-0-LL\n",
       "    source_type:            AOGCM AER BGC CHEM\n",
       "    sub_experiment:         none\n",
       "    sub_experiment_id:      none\n",
       "    table_id:               Amon\n",
       "    table_info:             Creation Date:(13 December 2018) MD5:2b12b5db6db1...\n",
       "    title:                  UKESM1-0-LL output prepared for CMIP6\n",
       "    variable_id:            tas\n",
       "    variant_label:          r1i1p1f2\n",
       "    license:                CMIP6 model data produced by the Met Office Hadle...\n",
       "    cmor_version:           3.4.0\n",
       "    tracking_id:            hdl:21.14100/255d149c-12fc-41f1-878d-0344c8b797f4</pre>"
      ],
      "text/plain": [
       "<xarray.Dataset>\n",
       "Dimensions:    (bnds: 2, lat: 144, lon: 192, time: 3012)\n",
       "Coordinates:\n",
       "    height     float64 1.5\n",
       "  * lat        (lat) float64 -89.38 -88.12 -86.88 -85.62 ... 86.88 88.12 89.38\n",
       "  * lon        (lon) float64 0.9375 2.812 4.688 6.562 ... 355.3 357.2 359.1\n",
       "  * time       (time) object 1850-01-16 00:00:00 ... 2100-12-16 00:00:00\n",
       "Dimensions without coordinates: bnds\n",
       "Data variables:\n",
       "    time_bnds  (time, bnds) object dask.array<chunksize=(1200, 2), meta=np.ndarray>\n",
       "    lat_bnds   (time, lat, bnds) float64 dask.array<chunksize=(1200, 144, 2), meta=np.ndarray>\n",
       "    lon_bnds   (time, lon, bnds) float64 dask.array<chunksize=(1200, 192, 2), meta=np.ndarray>\n",
       "    tas        (time, lat, lon) float32 dask.array<chunksize=(1200, 144, 192), meta=np.ndarray>\n",
       "Attributes:\n",
       "    Conventions:            CF-1.7 CMIP-6.2\n",
       "    activity_id:            CMIP\n",
       "    branch_method:          standard\n",
       "    branch_time_in_child:   0.0\n",
       "    branch_time_in_parent:  144000.0\n",
       "    creation_date:          2019-04-05T16:02:56Z\n",
       "    cv_version:             6.2.20.1\n",
       "    data_specs_version:     01.00.29\n",
       "    experiment:             all-forcing simulation of the recent past\n",
       "    experiment_id:          historical\n",
       "    external_variables:     areacella\n",
       "    forcing_index:          2\n",
       "    frequency:              mon\n",
       "    further_info_url:       https://furtherinfo.es-doc.org/CMIP6.MOHC.UKESM1-...\n",
       "    grid:                   Native N96 grid; 192 x 144 longitude/latitude\n",
       "    grid_label:             gn\n",
       "    history:                2019-04-05T15:50:03Z ; CMOR rewrote data to be co...\n",
       "    initialization_index:   1\n",
       "    institution:            Met Office Hadley Centre, Fitzroy Road, Exeter, D...\n",
       "    institution_id:         MOHC\n",
       "    mip_era:                CMIP6\n",
       "    mo_runid:               u-bc179\n",
       "    nominal_resolution:     250 km\n",
       "    parent_activity_id:     CMIP\n",
       "    parent_experiment_id:   piControl\n",
       "    parent_mip_era:         CMIP6\n",
       "    parent_source_id:       UKESM1-0-LL\n",
       "    parent_time_units:      days since 1850-01-01-00-00-00\n",
       "    parent_variant_label:   r1i1p1f2\n",
       "    physics_index:          1\n",
       "    product:                model-output\n",
       "    realization_index:      1\n",
       "    realm:                  atmos\n",
       "    source:                 UKESM1.0-LL (2018): \\naerosol: UKCA-GLOMAP-mode\\n...\n",
       "    source_id:              UKESM1-0-LL\n",
       "    source_type:            AOGCM AER BGC CHEM\n",
       "    sub_experiment:         none\n",
       "    sub_experiment_id:      none\n",
       "    table_id:               Amon\n",
       "    table_info:             Creation Date:(13 December 2018) MD5:2b12b5db6db1...\n",
       "    title:                  UKESM1-0-LL output prepared for CMIP6\n",
       "    variable_id:            tas\n",
       "    variant_label:          r1i1p1f2\n",
       "    license:                CMIP6 model data produced by the Met Office Hadle...\n",
       "    cmor_version:           3.4.0\n",
       "    tracking_id:            hdl:21.14100/255d149c-12fc-41f1-878d-0344c8b797f4"
      ]
     },
     "execution_count": 11,
     "metadata": {},
     "output_type": "execute_result"
    }
   ],
   "source": [
    "#load in all that data. This may take some time, esp if you are using a 3D variable\n",
    "loaded_data=xr.open_mfdataset(paths=files,combine='by_coords')\n",
    "#Print the metadata - which will be taken from the first of the files only\n",
    "loaded_data"
   ]
  },
  {
   "cell_type": "code",
   "execution_count": 4,
   "metadata": {},
   "outputs": [
    {
     "data": {
      "text/html": [
       "<pre>&lt;xarray.DataArray &#x27;lat&#x27; (lat: 144)&gt;\n",
       "array([-89.375, -88.125, -86.875, -85.625, -84.375, -83.125, -81.875, -80.625,\n",
       "       -79.375, -78.125, -76.875, -75.625, -74.375, -73.125, -71.875, -70.625,\n",
       "       -69.375, -68.125, -66.875, -65.625, -64.375, -63.125, -61.875, -60.625,\n",
       "       -59.375, -58.125, -56.875, -55.625, -54.375, -53.125, -51.875, -50.625,\n",
       "       -49.375, -48.125, -46.875, -45.625, -44.375, -43.125, -41.875, -40.625,\n",
       "       -39.375, -38.125, -36.875, -35.625, -34.375, -33.125, -31.875, -30.625,\n",
       "       -29.375, -28.125, -26.875, -25.625, -24.375, -23.125, -21.875, -20.625,\n",
       "       -19.375, -18.125, -16.875, -15.625, -14.375, -13.125, -11.875, -10.625,\n",
       "        -9.375,  -8.125,  -6.875,  -5.625,  -4.375,  -3.125,  -1.875,  -0.625,\n",
       "         0.625,   1.875,   3.125,   4.375,   5.625,   6.875,   8.125,   9.375,\n",
       "        10.625,  11.875,  13.125,  14.375,  15.625,  16.875,  18.125,  19.375,\n",
       "        20.625,  21.875,  23.125,  24.375,  25.625,  26.875,  28.125,  29.375,\n",
       "        30.625,  31.875,  33.125,  34.375,  35.625,  36.875,  38.125,  39.375,\n",
       "        40.625,  41.875,  43.125,  44.375,  45.625,  46.875,  48.125,  49.375,\n",
       "        50.625,  51.875,  53.125,  54.375,  55.625,  56.875,  58.125,  59.375,\n",
       "        60.625,  61.875,  63.125,  64.375,  65.625,  66.875,  68.125,  69.375,\n",
       "        70.625,  71.875,  73.125,  74.375,  75.625,  76.875,  78.125,  79.375,\n",
       "        80.625,  81.875,  83.125,  84.375,  85.625,  86.875,  88.125,  89.375])\n",
       "Coordinates:\n",
       "    height   float64 1.5\n",
       "  * lat      (lat) float64 -89.38 -88.12 -86.88 -85.62 ... 86.88 88.12 89.38\n",
       "Attributes:\n",
       "    bounds:         lat_bnds\n",
       "    units:          degrees_north\n",
       "    axis:           Y\n",
       "    long_name:      Latitude\n",
       "    standard_name:  latitude</pre>"
      ],
      "text/plain": [
       "<xarray.DataArray 'lat' (lat: 144)>\n",
       "array([-89.375, -88.125, -86.875, -85.625, -84.375, -83.125, -81.875, -80.625,\n",
       "       -79.375, -78.125, -76.875, -75.625, -74.375, -73.125, -71.875, -70.625,\n",
       "       -69.375, -68.125, -66.875, -65.625, -64.375, -63.125, -61.875, -60.625,\n",
       "       -59.375, -58.125, -56.875, -55.625, -54.375, -53.125, -51.875, -50.625,\n",
       "       -49.375, -48.125, -46.875, -45.625, -44.375, -43.125, -41.875, -40.625,\n",
       "       -39.375, -38.125, -36.875, -35.625, -34.375, -33.125, -31.875, -30.625,\n",
       "       -29.375, -28.125, -26.875, -25.625, -24.375, -23.125, -21.875, -20.625,\n",
       "       -19.375, -18.125, -16.875, -15.625, -14.375, -13.125, -11.875, -10.625,\n",
       "        -9.375,  -8.125,  -6.875,  -5.625,  -4.375,  -3.125,  -1.875,  -0.625,\n",
       "         0.625,   1.875,   3.125,   4.375,   5.625,   6.875,   8.125,   9.375,\n",
       "        10.625,  11.875,  13.125,  14.375,  15.625,  16.875,  18.125,  19.375,\n",
       "        20.625,  21.875,  23.125,  24.375,  25.625,  26.875,  28.125,  29.375,\n",
       "        30.625,  31.875,  33.125,  34.375,  35.625,  36.875,  38.125,  39.375,\n",
       "        40.625,  41.875,  43.125,  44.375,  45.625,  46.875,  48.125,  49.375,\n",
       "        50.625,  51.875,  53.125,  54.375,  55.625,  56.875,  58.125,  59.375,\n",
       "        60.625,  61.875,  63.125,  64.375,  65.625,  66.875,  68.125,  69.375,\n",
       "        70.625,  71.875,  73.125,  74.375,  75.625,  76.875,  78.125,  79.375,\n",
       "        80.625,  81.875,  83.125,  84.375,  85.625,  86.875,  88.125,  89.375])\n",
       "Coordinates:\n",
       "    height   float64 1.5\n",
       "  * lat      (lat) float64 -89.38 -88.12 -86.88 -85.62 ... 86.88 88.12 89.38\n",
       "Attributes:\n",
       "    bounds:         lat_bnds\n",
       "    units:          degrees_north\n",
       "    axis:           Y\n",
       "    long_name:      Latitude\n",
       "    standard_name:  latitude"
      ]
     },
     "execution_count": 4,
     "metadata": {},
     "output_type": "execute_result"
    }
   ],
   "source": [
    "#Separate out the various variables \n",
    "# (disappointing xarray does not have an area-weighted averaging ability)\n",
    "\n",
    "tas=loaded_data.tas\n",
    "lon=loaded_data.lon\n",
    "lat=loaded_data.lat\n",
    "lat #finish by printing out the data of the latitudes"
   ]
  },
  {
   "cell_type": "code",
   "execution_count": 5,
   "metadata": {},
   "outputs": [
    {
     "data": {
      "text/plain": [
       "<matplotlib.collections.QuadMesh at 0x22784160860>"
      ]
     },
     "execution_count": 5,
     "metadata": {},
     "output_type": "execute_result"
    },
    {
     "data": {
      "image/png": "[encoded data removed]",
      "text/plain": [
       "<Figure size 432x288 with 2 Axes>"
      ]
     },
     "metadata": {
      "needs_background": "light"
     },
     "output_type": "display_data"
    }
   ],
   "source": [
    "#create some weights for the temperatures\n",
    "weight=tas[0,:,:] #using tas to copy over metadata\n",
    "weight.values=np.ones((lat.shape[0],lon.shape[0]))\n",
    "for i in range(lat.shape[0]):\n",
    "    w=lat[i].values*np.pi/180\n",
    "    wc=np.cos(w)\n",
    "    weight.values[i,:]=np.repeat(wc,lon.shape[0])\n",
    "\n",
    "weight.plot()"
   ]
  },
  {
   "cell_type": "markdown",
   "metadata": {},
   "source": [
    "Now for the actual number crunching. This may take some time..."
   ]
  },
  {
   "cell_type": "code",
   "execution_count": 6,
   "metadata": {},
   "outputs": [],
   "source": [
    "#create and fill an array of global mean temperatures\n",
    "gmt=np.zeros(tas.shape[0])\n",
    "for t in range(tas.shape[0]):\n",
    "    gmt[t]=np.average(tas[t,:,:],weights=weight)\n",
    "\n",
    "#Put that information back into a plottable array\n",
    "ave=tas[:,0,0] #using this subsetting approach to maintain metadata\n",
    "#now overwrite the contents of ave\n",
    "ave.values=gmt\n"
   ]
  },
  {
   "cell_type": "markdown",
   "metadata": {},
   "source": [
    "At this point we have created monthly global mean values for surface temperature. We can plot this, but the seasonal variations will make it rather messy..."
   ]
  },
  {
   "cell_type": "code",
   "execution_count": 7,
   "metadata": {},
   "outputs": [
    {
     "data": {
      "text/plain": [
       "[<matplotlib.lines.Line2D at 0x22784278320>]"
      ]
     },
     "execution_count": 7,
     "metadata": {},
     "output_type": "execute_result"
    },
    {
     "data": {
      "image/png": "[encoded data removed]",
      "text/plain": [
       "<Figure size 432x288 with 1 Axes>"
      ]
     },
     "metadata": {
      "needs_background": "light"
     },
     "output_type": "display_data"
    }
   ],
   "source": [
    "ave.plot()"
   ]
  },
  {
   "cell_type": "markdown",
   "metadata": {},
   "source": [
    "So let us instead convert these to monthly anomalies. We'll select a climatology at from 1850-1900 for our climatology"
   ]
  },
  {
   "cell_type": "code",
   "execution_count": 9,
   "metadata": {},
   "outputs": [
    {
     "data": {
      "text/html": [
       "<pre>&lt;xarray.DataArray &#x27;tas&#x27; (time: 3012)&gt;\n",
       "array([-0.2672714 , -0.23451644, -0.03338939, ...,  7.29862908,\n",
       "        7.50389708,  7.49667425])\n",
       "Coordinates:\n",
       "    height   float64 1.5\n",
       "    lat      float64 -89.38\n",
       "    lon      float64 0.9375\n",
       "  * time     (time) object 1850-01-16 00:00:00 ... 2100-12-16 00:00:00\n",
       "    month    (time) int32 1 2 3 4 5 6 7 8 9 10 11 ... 2 3 4 5 6 7 8 9 10 11 12</pre>"
      ],
      "text/plain": [
       "<xarray.DataArray 'tas' (time: 3012)>\n",
       "array([-0.2672714 , -0.23451644, -0.03338939, ...,  7.29862908,\n",
       "        7.50389708,  7.49667425])\n",
       "Coordinates:\n",
       "    height   float64 1.5\n",
       "    lat      float64 -89.38\n",
       "    lon      float64 0.9375\n",
       "  * time     (time) object 1850-01-16 00:00:00 ... 2100-12-16 00:00:00\n",
       "    month    (time) int32 1 2 3 4 5 6 7 8 9 10 11 ... 2 3 4 5 6 7 8 9 10 11 12"
      ]
     },
     "execution_count": 9,
     "metadata": {},
     "output_type": "execute_result"
    }
   ],
   "source": [
    "preindustrial_values=ave.sel(time=slice('1850-01-01', '1900-12-30'))\n",
    "climatology = preindustrial_values.groupby(\"time.month\").mean(\"time\")\n",
    "anomalies = ave.groupby(\"time.month\") - climatology\n",
    "anomalies"
   ]
  },
  {
   "cell_type": "code",
   "execution_count": 10,
   "metadata": {},
   "outputs": [
    {
     "data": {
      "text/plain": [
       "[<matplotlib.lines.Line2D at 0x227854f8908>]"
      ]
     },
     "execution_count": 10,
     "metadata": {},
     "output_type": "execute_result"
    },
    {
     "data": {
      "image/png": "[encoded data removed]",
      "text/plain": [
       "<Figure size 432x288 with 1 Axes>"
      ]
     },
     "metadata": {
      "needs_background": "light"
     },
     "output_type": "display_data"
    }
   ],
   "source": [
    "anomalies.plot()"
   ]
  }
 ],
 "metadata": {
  "kernelspec": {
   "display_name": "Python 3",
   "language": "python",
   "name": "python3"
  },
  "language_info": {
   "codemirror_mode": {
    "name": "ipython",
    "version": 3
   },
   "file_extension": ".py",
   "mimetype": "text/x-python",
   "name": "python",
   "nbconvert_exporter": "python",
   "pygments_lexer": "ipython3",
   "version": "3.6.10"
  }
 },
 "nbformat": 4,
 "nbformat_minor": 4
}
