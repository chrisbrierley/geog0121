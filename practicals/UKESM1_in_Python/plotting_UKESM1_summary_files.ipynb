{
 "cells": [
  {
   "cell_type": "markdown",
   "metadata": {},
   "source": [
    "# Introduction to 2D plots\n",
    "\n",
    "This notebook demonstrates how plot some latitude by longitude maps of some key surface variables. Most features are available in the preinstalled `geog0111` environment. \n",
    "\n",
    "But updated plotting that removes white meridional lines around the Greenwich Meridian, requires the `geog0121` virtual environment. Instructions about how to install this environment (using `conda` and the `environment.yml` file) are provided in the handbook."
   ]
  },
  {
   "cell_type": "markdown",
   "metadata": {},
   "source": [
    "### Import packages and define fucntions for calculations"
   ]
  },
  {
   "cell_type": "code",
   "execution_count": null,
   "metadata": {},
   "outputs": [],
   "source": [
    "'''Import packages for loading data, analysing, and plotting'''\n",
    "\n",
    "import xarray\n",
    "import numpy\n",
    "import cartopy\n",
    "import matplotlib\n",
    "%matplotlib inline\n",
    "\n",
    "# Add a couple of deep down individual functions.\n",
    "from mpl_toolkits.axes_grid1 import make_axes_locatable\n",
    "from cartopy.mpl.gridliner import LONGITUDE_FORMATTER, LATITUDE_FORMATTER\n",
    "from matplotlib.ticker import AutoMinorLocator\n",
    "from cartopy.util import add_cyclic_point\n",
    "\n",
    "# used to create area averages over AR6 regions.\n",
    "import regionmask\n",
    "\n",
    "# hide some warning messages\n",
    "import warnings\n",
    "warnings.filterwarnings(\"ignore\")\n"
   ]
  },
  {
   "cell_type": "markdown",
   "metadata": {},
   "source": [
    "# UKESM's El Nino temperature pattern\n",
    "Here we use the CVDP output files to plot the temperature response to an El Nino. First we will load in the data"
   ]
  },
  {
   "cell_type": "code",
   "execution_count": null,
   "metadata": {},
   "outputs": [],
   "source": [
    "#ON THE GEOGRAPHY CLUSTER\n",
    "filename='~/geog0121_shared_space/UKESM1_summary_files/UKESM1_historical_1981-2010.cvdp_data.1850-2014.nc'"
   ]
  },
  {
   "cell_type": "code",
   "execution_count": null,
   "metadata": {},
   "outputs": [],
   "source": [
    "# load files\n",
    "expt_file=xarray.open_dataset(filename,decode_times=False)\n",
    "# load the coordinates\n",
    "lat=expt_file['lat']\n",
    "lon=expt_file['lon']\n",
    "# load the variables themselves\n",
    "enso_pattern=expt_file.nino34_spacomp_tas_djf1"
   ]
  },
  {
   "cell_type": "markdown",
   "metadata": {},
   "source": [
    "Then we will specify the colorscale and map"
   ]
  },
  {
   "cell_type": "code",
   "execution_count": null,
   "metadata": {},
   "outputs": [],
   "source": [
    "#temperatures\n",
    "cmap=matplotlib.pyplot.get_cmap('bwr') #define colormap\n",
    "\n",
    "#define colormap's range and scale\n",
    "cmap_limits=[-5,5]\n",
    "bounds = numpy.linspace(cmap_limits[0], cmap_limits[1], 21)\n",
    "norm = matplotlib.colors.BoundaryNorm(boundaries=bounds, ncolors=256)"
   ]
  },
  {
   "cell_type": "markdown",
   "metadata": {},
   "source": [
    "Now we will make a global plot of the El Nino pattern"
   ]
  },
  {
   "cell_type": "code",
   "execution_count": null,
   "metadata": {},
   "outputs": [],
   "source": [
    "# Choose the map and projection\n",
    "projection = cartopy.crs.Robinson()\n",
    "transform=cartopy.crs.PlateCarree()\n",
    "\n",
    "# Plot the axes\n",
    "matplotlib.pyplot.figure(figsize=(10,7))\n",
    "ax = matplotlib.pyplot.axes(projection=projection)\n",
    "ax.coastlines()\n",
    "ax.gridlines()\n",
    "\n",
    "# Make the actual figure\n",
    "fig=ax.contourf(lon,lat,enso_pattern,levels=bounds, transform=transform,cmap=cmap,norm=norm)\n",
    "\n",
    "# Alter the color bar for the map\n",
    "cax,kw = matplotlib.colorbar.make_axes(ax,location='bottom',pad=0.05,shrink=0.7)\n",
    "matplotlib.pyplot.colorbar(fig,cax=cax,**kw)\n"
   ]
  },
  {
   "cell_type": "markdown",
   "metadata": {},
   "source": [
    "And then lets zoom into a smaller region of it"
   ]
  },
  {
   "cell_type": "code",
   "execution_count": null,
   "metadata": {},
   "outputs": [],
   "source": [
    "#Regional map\n",
    "region=[100,280,-30,30] #[lon_min,lon_max,lat_min,lat_max]\n",
    "\n",
    "# note the specification of the central longitude, so that is spans the dateline\n",
    "projection = cartopy.crs.PlateCarree(central_longitude=180., globe=None)\n",
    "transform=cartopy.crs.PlateCarree()\n",
    "\n",
    "matplotlib.pyplot.figure(figsize=(10,7))\n",
    "ax = matplotlib.pyplot.axes(projection=projection)\n",
    "\n",
    "ax.coastlines()\n",
    "gl = ax.gridlines(crs=cartopy.crs.PlateCarree(), draw_labels=True,alpha=0.5, linestyle='--')\n",
    "gl.top_labels = False\n",
    "gl.xformatter = LONGITUDE_FORMATTER\n",
    "\n",
    "fig=ax.contourf(lon,lat,enso_pattern,levels=bounds, transform=transform,cmap=cmap,norm=norm)\n",
    "ax.set_extent(region, cartopy.crs.PlateCarree())\n",
    "\n",
    "cax,kw = matplotlib.colorbar.make_axes(ax,location='bottom',pad=0.05,shrink=0.7)\n",
    "matplotlib.pyplot.colorbar(fig,cax=cax,**kw)\n",
    "\n",
    "#matplotlib.pyplot.savefig(figname)"
   ]
  },
  {
   "cell_type": "markdown",
   "metadata": {},
   "source": [
    "# Seasonal precipitation anomalies\n",
    "\n",
    "The CVDP files can be used to create maps of the changes in seasonal precipitation. First we select the variable"
   ]
  },
  {
   "cell_type": "code",
   "execution_count": null,
   "metadata": {},
   "outputs": [],
   "source": [
    "#Set some variables to decide what to plot\n",
    "end_period='2071-2100'\n",
    "start_period='1851-1900'\n",
    "ssp='ssp585'\n",
    "\n",
    "filename_a='~/geog0121_shared_space/UKESM1_summary_files/UKESM1_%s_%s.cvdp_data.1850-2100.nc'%(ssp,end_period)\n",
    "filename_b='~/geog0121_shared_space/UKESM1_summary_files/UKESM1_%s_%s.cvdp_data.1850-2100.nc'%(ssp,start_period)"
   ]
  },
  {
   "cell_type": "code",
   "execution_count": null,
   "metadata": {},
   "outputs": [],
   "source": [
    "# load files\n",
    "expt_a_file=xarray.open_dataset(filename_a,decode_times=False)\n",
    "expt_b_file=xarray.open_dataset(filename_b,decode_times=False)"
   ]
  },
  {
   "cell_type": "code",
   "execution_count": null,
   "metadata": {},
   "outputs": [],
   "source": [
    "#seasonal precipitation anomalies\n",
    "variable_name='pr_spatialmean_djf'\n",
    "expt_a=expt_a_file[variable_name]\n",
    "expt_b=expt_b_file[variable_name]\n",
    "diff=expt_a-expt_b"
   ]
  },
  {
   "cell_type": "markdown",
   "metadata": {},
   "source": [
    "Then we define the colormap, and give it a non-linear interval"
   ]
  },
  {
   "cell_type": "code",
   "execution_count": null,
   "metadata": {},
   "outputs": [],
   "source": [
    "#precipitations\n",
    "cmap=matplotlib.pyplot.get_cmap('BrBG') #define colormap\n",
    "\n",
    "#define colormap's range and scale\n",
    "bounds = [-5,-2,-1,-0.8,-0.6,-0.4,-0.2,0,0.2,0.4,0.6,0.8,1,2,5]\n",
    "norm = matplotlib.colors.BoundaryNorm(boundaries=bounds, ncolors=256)"
   ]
  },
  {
   "cell_type": "markdown",
   "metadata": {},
   "source": [
    "Then we can create a global map with..."
   ]
  },
  {
   "cell_type": "code",
   "execution_count": null,
   "metadata": {},
   "outputs": [],
   "source": [
    "#Global map\n",
    "\n",
    "projection = cartopy.crs.Robinson()\n",
    "transform=cartopy.crs.PlateCarree()\n",
    "\n",
    "matplotlib.pyplot.figure(figsize=(10,7))\n",
    "ax = matplotlib.pyplot.axes(projection=projection)\n",
    "ax.coastlines()\n",
    "ax.gridlines()\n",
    "\n",
    "fig=ax.contourf(lon,lat,diff,levels=bounds, transform=transform,cmap=cmap,norm=norm)\n",
    "cax,kw = matplotlib.colorbar.make_axes(ax,location='bottom',pad=0.05,shrink=0.7)\n",
    "matplotlib.pyplot.colorbar(fig,cax=cax,**kw)"
   ]
  },
  {
   "cell_type": "markdown",
   "metadata": {},
   "source": [
    "Or a regional map with..."
   ]
  },
  {
   "cell_type": "code",
   "execution_count": null,
   "metadata": {},
   "outputs": [],
   "source": [
    "#Regional map\n",
    "region=[-20,70,20,90] #[lon_min,lon_max,lat_min,lat_max]\n",
    "\n",
    "projection = cartopy.crs.PlateCarree(central_longitude=0.0, globe=None)\n",
    "transform=cartopy.crs.PlateCarree()\n",
    "\n",
    "matplotlib.pyplot.figure(figsize=(10,7))\n",
    "ax = matplotlib.pyplot.axes(projection=projection)\n",
    "\n",
    "ax.coastlines()\n",
    "gl = ax.gridlines(crs=cartopy.crs.PlateCarree(), draw_labels=True,alpha=0.5, linestyle='--')\n",
    "gl.xlabels_top = False\n",
    "gl.ylabels_left = False\n",
    "#gl.xlocator = mticker.FixedLocator([-180, -45, 0, 45, 180])\n",
    "gl.xformatter = LONGITUDE_FORMATTER\n",
    "gl.yformatter = LATITUDE_FORMATTER\n",
    "\n",
    "\n",
    "fig=ax.contourf(lon,lat,diff,levels=bounds, transform=transform,cmap=cmap,norm=norm)\n",
    "ax.set_extent(region, cartopy.crs.PlateCarree())\n",
    "\n",
    "cax,kw = matplotlib.colorbar.make_axes(ax,location='bottom',pad=0.05,shrink=0.7)\n",
    "matplotlib.pyplot.colorbar(fig,cax=cax,**kw)\n",
    "\n"
   ]
  },
  {
   "cell_type": "markdown",
   "metadata": {},
   "source": [
    "If your regional plot (like this one) happens to cross the Greenwich meridian, then you will end up with a white line going straight up the middle of your regional plot. This can be fixed by adding a \"cyclic point\" to loop the data around the globe. To understand this, think about how you need to overlap the wrapping paper on a present to cover it completely. \n",
    "\n",
    "There is a function in python to do this, but unfortunately it doesn't come in the standard version of python. This function is in the cell below.\n",
    "\n",
    "You will need to make your own virtual environment called `geog0121` using conda and the yml file provided. If you have not down this, then when you run the code below it will fail with the following error message... \n",
    "> TypeError: invalid indexer array"
   ]
  },
  {
   "cell_type": "code",
   "execution_count": null,
   "metadata": {},
   "outputs": [],
   "source": [
    "diff, lon = add_cyclic_point(diff, coord=lon)"
   ]
  },
  {
   "cell_type": "markdown",
   "metadata": {},
   "source": [
    "# Sea ice\n",
    "Sea ice is stored on the Ocean Grid - which makes plotting it a bit more tricky"
   ]
  },
  {
   "cell_type": "code",
   "execution_count": null,
   "metadata": {},
   "outputs": [],
   "source": [
    "filename_4ice='~/geog0121_shared_space/UKESM1_summary_files/UKESM1_historical_1981-2010.cvdp_data.1850-2014.nc'"
   ]
  },
  {
   "cell_type": "code",
   "execution_count": null,
   "metadata": {},
   "outputs": [],
   "source": [
    "#Load the data\n",
    "variable_name='sic_nh_spatialmean_ann'\n",
    "\n",
    "expt_a_file=xarray.open_dataset(filename_4ice,decode_times=False)\n",
    "expt_a=expt_a_file[variable_name]\n",
    "\n",
    "expt_a"
   ]
  },
  {
   "cell_type": "code",
   "execution_count": null,
   "metadata": {},
   "outputs": [],
   "source": [
    "expt_a.plot()"
   ]
  },
  {
   "cell_type": "code",
   "execution_count": null,
   "metadata": {},
   "outputs": [],
   "source": [
    "# coordinates\n",
    "lon2d=expt_a_file['lon2d_ice_nh']\n",
    "lat2d=expt_a_file['lat2d_ice_nh']"
   ]
  },
  {
   "cell_type": "markdown",
   "metadata": {},
   "source": [
    "The default plot of this variable above demonstrates both the odd grid, and the fact that we only have data in the northern hemisphere. In fact the latitudes and longitudes of each grid point are shown in the figures below"
   ]
  },
  {
   "cell_type": "code",
   "execution_count": null,
   "metadata": {},
   "outputs": [],
   "source": [
    "fig, (ax1, ax2) = matplotlib.pyplot.subplots(ncols=2, figsize=(14,4))\n",
    "lat2d.plot(ax=ax1)\n",
    "lon2d.plot(ax=ax2)"
   ]
  },
  {
   "cell_type": "code",
   "execution_count": null,
   "metadata": {},
   "outputs": [],
   "source": [
    "#remove all 0 \n",
    "ice=expt_a.where(expt_a>0)"
   ]
  },
  {
   "cell_type": "code",
   "execution_count": null,
   "metadata": {},
   "outputs": [],
   "source": [
    "cmap=matplotlib.pyplot.get_cmap('cubehelix')\n",
    "projection = cartopy.crs.PlateCarree(central_longitude=0.0, globe=None)\n",
    "\n",
    "transform=cartopy.crs.PlateCarree()\n",
    "\n",
    "bounds = numpy.linspace(0, 100, 21)\n",
    "norm = matplotlib.colors.BoundaryNorm(boundaries=bounds, ncolors=256)\n",
    "\n",
    "\n",
    "\n",
    "matplotlib.pyplot.figure(figsize=(10, 10))\n",
    "ax = matplotlib.pyplot.axes(projection=cartopy.crs.Orthographic(central_latitude=90.0,central_longitude=-45.))\n",
    "ax.add_feature(cartopy.feature.LAND, zorder=1,facecolor=cartopy.feature.COLORS['land_alt1'])\n",
    "ax.coastlines(resolution='110m', linewidth=0.5)\n",
    "ax.gridlines()\n",
    "\n",
    "fig=ax.pcolormesh(lon2d,lat2d,ice, transform=transform,cmap=cmap,norm=norm)\n",
    "\n",
    "#add bounday of expt_b\n",
    "#ax.contour(lon_nh,lat_nh,expt_b, colors='black', levels=[1], linewidth=4, transform=transform)\n",
    "\n",
    "cax,kw = matplotlib.colorbar.make_axes(ax,location='bottom',pad=0.05,shrink=0.7)\n",
    "\n",
    "matplotlib.pyplot.colorbar(fig,cax=cax,**kw)"
   ]
  },
  {
   "cell_type": "markdown",
   "metadata": {},
   "source": [
    "# Alternate File Locations"
   ]
  },
  {
   "cell_type": "code",
   "execution_count": null,
   "metadata": {},
   "outputs": [],
   "source": [
    "#FOR YOUR OWN LAPTOP\n",
    "import os\n",
    "import urllib\n",
    "\n",
    "# El Nino\n",
    "directory='Data' \n",
    "filename='%s/UKESM1_historical_1981-2010.cvdp_data.1850-2014.nc'%(directory)\n",
    "if not os.path.isfile(filename):\n",
    "    print('Downloading %s' %(filename))\n",
    "    !mkdir Data\n",
    "    urllib.request.urlretrieve(\"http://www2.geog.ucl.ac.uk/~ucfaccb/geog0121/downloads/UKESM1_historical_1981-2010.cvdp_data.1850-2014.nc\", filename)    \n",
    "\n",
    "\n",
    "# Rainfall pattern changes\n",
    "end_period='2071-2100'\n",
    "start_period='1851-1900'\n",
    "ssp='ssp585'\n",
    "filename_a='Data/UKESM1_%s_%s.cvdp_data.1850-2100.nc'%(ssp,end_period)\n",
    "filename_b='Data/UKESM1_%s_%s.cvdp_data.1850-2100.nc'%(ssp,start_period)\n",
    "if not os.path.isfile(filename_a):\n",
    "    print('Downloading %s' %(filename_a))\n",
    "    !mkdir Data\n",
    "    url_a='http://www2.geog.ucl.ac.uk/~ucfaccb/geog0121/downloads/UKESM1_%s_%s.cvdp_data.1850-2100.nc'%(ssp,end_period)\n",
    "    urllib.request.urlretrieve(url_a, filename_a)    \n",
    "    \n",
    "if not os.path.isfile(filename_b):\n",
    "    print('Downloading %s' %(filename_b))\n",
    "    url_b='http://www2.geog.ucl.ac.uk/~ucfaccb/geog0121/downloads/UKESM1_%s_%s.cvdp_data.1850-2100.nc'%(ssp,start_period)\n",
    "    urllib.request.urlretrieve(url_b, filename_b)\n",
    "    \n",
    "# sea ice\n",
    "filename_4ice='UKESM1_historical_1981-2010.cvdp_data.1850-2014.nc'\n",
    "if not os.path.isfile(filename_4ice):\n",
    "    !mkdir Data\n",
    "    urllib.request.urlretrieve(\"http://www2.geog.ucl.ac.uk/~ucfaccb/geog0121/downloads/UKESM1_historical_1981-2010.cvdp_data.1850-2014.nc\", filename_4ice)"
   ]
  },
  {
   "cell_type": "code",
   "execution_count": null,
   "metadata": {},
   "outputs": [],
   "source": [
    "#FOR THE GEOGRAPHY CLUSTER\n",
    "\n",
    "# El Nino pattern\n",
    "directory='/data/aod/cvdp_cmip6/geog0121/UKESM1-0-LL_historical.vsObs' \n",
    "filename='%s/UKESM1-0-LL_PresentDay.cvdp_data.1850-2014.nc'%(directory)\n",
    "\n",
    "# Rainfall pattern changes\n",
    "end_period='2071-2100'\n",
    "start_period='1851-1900'\n",
    "ssp='ssp585'\n",
    "directory_a='/data/aod/cvdp_cmip6/geog0121/UKESM1-0-LL_ssps.wrt_%s' %end_period\n",
    "filename_a='%s/UKESM1_%s_%s.cvdp_data.1850-2100.nc'%(directory_a,ssp,end_period)\n",
    "directory_b='/data/aod/cvdp_cmip6/geog0121/UKESM1-0-LL_ssps.wrt_%s' %start_period\n",
    "filename_b='%s/UKESM1_%s_%s.cvdp_data.1850-2100.nc'%(directory_b,ssp,start_period)\n",
    "\n",
    "#sea ice\n",
    "variable_name='sic_nh_spatialmean_ann'\n",
    "period1='1981-2010'\n",
    "directory1='/data/aod/cvdp_cmip6/geog0121/UKESM1-0-LL_ssps.wrt_%s' %period1\n",
    "filename_4ice='%s/UKESM1_%s_%s.cvdp_data.1850-2014.nc'%(directory1,ssp,period1)\n",
    "\n"
   ]
  }
 ],
 "metadata": {
  "kernelspec": {
   "display_name": "Python [conda env:geog0121-geog0121]",
   "language": "python",
   "name": "conda-env-geog0121-geog0121-py"
  },
  "language_info": {
   "codemirror_mode": {
    "name": "ipython",
    "version": 3
   },
   "file_extension": ".py",
   "mimetype": "text/x-python",
   "name": "python",
   "nbconvert_exporter": "python",
   "pygments_lexer": "ipython3",
   "version": "3.7.8"
  }
 },
 "nbformat": 4,
 "nbformat_minor": 4
}
