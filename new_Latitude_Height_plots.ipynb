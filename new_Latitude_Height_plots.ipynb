{
 "cells": [
  {
   "cell_type": "markdown",
   "metadata": {},
   "source": [
    "# Vertical structure\n",
    "\n",
    "This notebook demonstrates how to create a zonal mean warming pattern in the atmosphere"
   ]
  },
  {
   "cell_type": "markdown",
   "metadata": {},
   "source": [
    "### Import packages and define fucntions for calculations"
   ]
  },
  {
   "cell_type": "code",
   "execution_count": 4,
   "metadata": {},
   "outputs": [],
   "source": [
    "'''Import packages for loading data, analysing, and plotting'''\n",
    "\n",
    "import xarray as xr\n",
    "import matplotlib.pyplot as plt\n",
    "import numpy as np\n",
    "import pandas as pd\n",
    "\n",
    "%matplotlib inline\n",
    "import cartopy\n",
    "import cartopy.crs as ccrs\n",
    "import matplotlib\n",
    "from netCDF4 import Dataset\n",
    "from mpl_toolkits.axes_grid1 import make_axes_locatable\n",
    "import numpy.ma as ma\n",
    "\n",
    "\n",
    "import os\n",
    "import matplotlib.colors as colors\n",
    "\n",
    "import scipy\n",
    "from cartopy.util import add_cyclic_point\n",
    "import matplotlib.ticker as mticker\n",
    "from cartopy.mpl.gridliner import LONGITUDE_FORMATTER, LATITUDE_FORMATTER\n",
    "\n",
    "import warnings\n",
    "warnings.filterwarnings(\"ignore\")"
   ]
  },
  {
   "cell_type": "markdown",
   "metadata": {},
   "source": [
    "# Plot 1:  Latitude -- Height plot for the atmosphere"
   ]
  },
  {
   "cell_type": "markdown",
   "metadata": {},
   "source": [
    "## Open the 3D fields and compute the differences "
   ]
  },
  {
   "cell_type": "code",
   "execution_count": 2,
   "metadata": {},
   "outputs": [],
   "source": [
    "# FOR THE GEOGRAPHY CLUSTER\n",
    "\n",
    "variable_name='ta'\n",
    "filename_a='/data/CMIP/CMIP6/ScenarioMIP/MOHC/UKESM1-0-LL/ssp370/r1i1p1f2/Amon/ta/gn/v20190510/ta_Amon_UKESM1-0-LL_ssp370_r1i1p1f2_gn_205001-210012.nc'\n",
    "filename_b='/data/CMIP/CMIP6/CMIP/MOHC/UKESM1-0-LL/historical/r1i1p1f2/Amon/ta/gn/v20190406/ta_Amon_UKESM1-0-LL_historical_r1i1p1f2_gn_185001-194912.nc'\n"
   ]
  },
  {
   "cell_type": "code",
   "execution_count": 3,
   "metadata": {},
   "outputs": [],
   "source": [
    "# FOR THE OWN LAPTOP: THIS REQUIRES PRIOR KNOWLEDGE OF THE FILE NAMES.\n",
    "# EACH FILE IS AROUND 1 GiB! AND THIS IS THE EDGE OF MY (small) LAPTOP'S CAPABILITIES\n",
    "\n",
    "variable_name='ta'\n",
    "filename_a='Data/ta_Amon_UKESM1-0-LL_ssp370_r1i1p1f2_gn_205001-210012.nc'\n",
    "filename_b='Data/ta_Amon_UKESM1-0-LL_historical_r1i1p1f2_gn_185001-194912.nc'\n",
    "#Download the files if they are not already here\n",
    "import os\n",
    "import urllib\n",
    "if not os.path.isfile(filename_a):\n",
    "    print('Downloading %s' %(filename_a))\n",
    "    !mkdir Data\n",
    "    urllib.request.urlretrieve(\"http://www2.geog.ucl.ac.uk/~ucfaccb/geog0121/cmip6_UKESM1_data/ssp370/Amon/ta/gn/v20190510/ta_Amon_UKESM1-0-LL_ssp370_r1i1p1f2_gn_205001-210012.nc\", filename_a)    \n",
    "    \n",
    "if not os.path.isfile(filename_b):\n",
    "    print('Downloading %s' %(filename_b))\n",
    "    urllib.request.urlretrieve(\"http://www2.geog.ucl.ac.uk/~ucfaccb/geog0121/cmip6_UKESM1_data/historical/Amon/ta/gn/v20190406/ta_Amon_UKESM1-0-LL_historical_r1i1p1f2_gn_185001-194912.nc\", filename_b)\n"
   ]
  },
  {
   "cell_type": "code",
   "execution_count": 4,
   "metadata": {},
   "outputs": [],
   "source": [
    "#This cell actually load the 3D data\n",
    "expt_a_file=Dataset(filename_a)\n",
    "expt_a=expt_a_file[variable_name][:]\n",
    "lat=expt_a_file['lat'][:]\n",
    "lon=expt_a_file['lon'][:]\n",
    "lev=expt_a_file['plev'][:]\n",
    "expt_b_file=Dataset(filename_b)\n",
    "expt_b=expt_b_file[variable_name][:]\n",
    "expt_a_file.close()\n",
    "expt_b_file.close()"
   ]
  },
  {
   "cell_type": "code",
   "execution_count": 5,
   "metadata": {},
   "outputs": [],
   "source": [
    "# Now we take the time-averages\n",
    "ta_a=np.average(expt_a,axis=0)\n",
    "ta_b=np.average(expt_b,axis=0)"
   ]
  },
  {
   "cell_type": "code",
   "execution_count": 6,
   "metadata": {},
   "outputs": [],
   "source": [
    "# And compute the difference between them\n",
    "diff=ta_a-ta_b\n",
    "\n",
    "#This is still 3D, so we need to compute the zonal mean\n",
    "zonal_diff=np.nanmean(np.array(diff),axis=2)"
   ]
  },
  {
   "cell_type": "markdown",
   "metadata": {},
   "source": [
    "## Plot a vertical profile of atmosphere"
   ]
  },
  {
   "cell_type": "code",
   "execution_count": 7,
   "metadata": {},
   "outputs": [
    {
     "data": {
      "text/plain": [
       "<matplotlib.colorbar.Colorbar at 0x1a224026e80>"
      ]
     },
     "execution_count": 7,
     "metadata": {},
     "output_type": "execute_result"
    },
    {
     "data": {
      "image/png": "[encoded data removed]",
      "text/plain": [
       "<Figure size 720x504 with 2 Axes>"
      ]
     },
     "metadata": {
      "needs_background": "light"
     },
     "output_type": "display_data"
    }
   ],
   "source": [
    "cmap=plt.get_cmap('bwr') #define colormap\n",
    "\n",
    "#define colormap's range and scale\n",
    "\n",
    "bounds = [-10,-7,-5,-3,-2,-1,0,1,2,3,5,7,10]\n",
    "norm = colors.BoundaryNorm(boundaries=bounds, ncolors=256)\n",
    "\n",
    "\n",
    "plt.figure(figsize=(10,7))\n",
    "\n",
    "ax = plt.axes()\n",
    "fig=ax.contourf(lat,lev*0.01,np.array(zonal_diff),levels=bounds,cmap=cmap,norm=norm)\n",
    "ax.invert_yaxis()\n",
    "\n",
    "\n",
    "cax,kw = matplotlib.colorbar.make_axes(ax,location='bottom',pad=0.05,shrink=0.7)\n",
    "plt.colorbar(fig,cax=cax,extend='both',**kw)"
   ]
  },
  {
   "cell_type": "markdown",
   "metadata": {},
   "source": [
    "This plot shows that only the troposphere is warming - the stratosphere (upper atmosphere) is cooling. The higher you go into the troposphere the more it warms, especially over the Equator. The Arctic (on the right) is warming more than the rest of the globe. "
   ]
  },
  {
   "cell_type": "markdown",
   "metadata": {},
   "source": [
    "# Plot 2: Latitude -- Depth plot for the Ocean"
   ]
  },
  {
   "cell_type": "markdown",
   "metadata": {},
   "source": [
    "## Plot the mean meridional mass overturning streamfunction in the north Atlantic Ocean under ssp585 scenario directly from UKESM1 output\n",
    "\n",
    "### Required data can be downloaded from the geography server:\n",
    "\n",
    "/data/CMIP/CMIP6/ScenarioMIP/MOHC/UKESM1-0-LL/ssp585/r1i1p1f2/Omon/msftyz/gn/v20190819/msftyz_Omon_UKESM1-0-LL_ssp585_r1i1p1f2_gn_201501-204912.nc\n",
    "\n",
    "/data/CMIP/CMIP6/ScenarioMIP/MOHC/UKESM1-0-LL/ssp585/r1i1p1f2/Omon/msftyz/gn/v20190819/msftyz_Omon_UKESM1-0-LL_ssp585_r1i1p1f2_gn_205001-210012.nc\n"
   ]
  },
  {
   "cell_type": "code",
   "execution_count": 5,
   "metadata": {},
   "outputs": [],
   "source": [
    "#open and concatenate two files  \n",
    "ds = xr.open_mfdataset('msftyz_*.nc', autoclose=True, decode_times=False)"
   ]
  },
  {
   "cell_type": "code",
   "execution_count": 8,
   "metadata": {},
   "outputs": [],
   "source": [
    "#create and save the new file which covers the time period of 2015-2100\n",
    "new_filename_1 = 'ssp585_ukesm1_combined.nc'\n",
    "ds.to_netcdf(path=new_filename_1)"
   ]
  },
  {
   "cell_type": "code",
   "execution_count": 10,
   "metadata": {
    "scrolled": true
   },
   "outputs": [
    {
     "name": "stdout",
     "output_type": "stream",
     "text": [
      "<xarray.Dataset>\n",
      "Dimensions:    (basin: 3, bnds: 2, lev: 75, rlat: 330, time: 1032)\n",
      "Coordinates:\n",
      "    sector     (basin) |S21 ...\n",
      "  * rlat       (rlat) float64 -85.35 -85.19 -85.04 -84.89 ... 81.73 81.77 81.79\n",
      "  * lev        (lev) float64 0.0 1.024 2.103 ... 5.393e+03 5.596e+03 5.8e+03\n",
      "  * time       (time) float64 5.942e+04 5.944e+04 ... 9.032e+04 9.034e+04\n",
      "Dimensions without coordinates: basin, bnds\n",
      "Data variables:\n",
      "    time_bnds  (time, bnds) float64 ...\n",
      "    lev_bnds   (time, lev, bnds) float64 ...\n",
      "    rlat_bnds  (time, rlat, bnds) float64 ...\n",
      "    msftyz     (time, basin, lev, rlat) float32 ...\n",
      "Attributes:\n",
      "    Conventions:            CF-1.7 CMIP-6.2\n",
      "    activity_id:            ScenarioMIP\n",
      "    branch_method:          standard\n",
      "    branch_time_in_child:   59400.0\n",
      "    branch_time_in_parent:  59400.0\n",
      "    creation_date:          2019-08-19T10:32:59Z\n",
      "    cv_version:             6.2.20.1\n",
      "    data_specs_version:     01.00.29\n",
      "    experiment:             update of RCP8.5 based on SSP5\n",
      "    experiment_id:          ssp585\n",
      "    forcing_index:          2\n",
      "    frequency:              mon\n",
      "    further_info_url:       https://furtherinfo.es-doc.org/CMIP6.MOHC.UKESM1-...\n",
      "    grid:                   Native eORCA1 tripolar primarily 1 deg with merid...\n",
      "    grid_label:             gn\n",
      "    history:                2019-08-19T10:32:59Z ; CMOR rewrote data to be co...\n",
      "    initialization_index:   1\n",
      "    institution:            Met Office Hadley Centre, Fitzroy Road, Exeter, D...\n",
      "    institution_id:         MOHC\n",
      "    mip_era:                CMIP6\n",
      "    mo_runid:               u-be653\n",
      "    nominal_resolution:     100 km\n",
      "    parent_activity_id:     CMIP\n",
      "    parent_experiment_id:   historical\n",
      "    parent_mip_era:         CMIP6\n",
      "    parent_source_id:       UKESM1-0-LL\n",
      "    parent_time_units:      days since 1850-01-01-00-00-00\n",
      "    parent_variant_label:   r1i1p1f2\n",
      "    physics_index:          1\n",
      "    product:                model-output\n",
      "    realization_index:      1\n",
      "    realm:                  ocean\n",
      "    source:                 UKESM1.0-LL (2018): \\naerosol: UKCA-GLOMAP-mode\\n...\n",
      "    source_id:              UKESM1-0-LL\n",
      "    source_type:            AOGCM AER BGC CHEM\n",
      "    sub_experiment:         none\n",
      "    sub_experiment_id:      none\n",
      "    table_id:               Omon\n",
      "    table_info:             Creation Date:(13 December 2018) MD5:2b12b5db6db1...\n",
      "    title:                  UKESM1-0-LL output prepared for CMIP6\n",
      "    tracking_id:            hdl:21.14100/27f933ba-9f91-451a-bb3e-b06a330eccfd\n",
      "    variable_id:            msftyz\n",
      "    variable_name:          msftyz\n",
      "    variant_label:          r1i1p1f2\n",
      "    license:                CMIP6 model data produced by the Met Office Hadle...\n",
      "    cmor_version:           3.4.0\n"
     ]
    }
   ],
   "source": [
    "filename_2='ssp585_ukesm1_combined.nc'\n",
    "ukesm1_ssp585=xr.open_dataset(filename_2,decode_times=False)\n",
    "print(ukesm1_ssp585)"
   ]
  },
  {
   "cell_type": "code",
   "execution_count": 11,
   "metadata": {},
   "outputs": [
    {
     "name": "stdout",
     "output_type": "stream",
     "text": [
      "<xarray.DataArray 'sector' (basin: 3)>\n",
      "array([b'atlantic_arctic_ocean', b'global_ocean', b'indian_pacific_ocean'],\n",
      "      dtype='|S21')\n",
      "Coordinates:\n",
      "    sector   (basin) |S21 b'atlantic_arctic_ocean' ... b'indian_pacific_ocean'\n",
      "Dimensions without coordinates: basin\n",
      "Attributes:\n",
      "    long_name:      ocean basin\n",
      "    standard_name:  region\n"
     ]
    }
   ],
   "source": [
    "print(ukesm1_ssp585.sector)"
   ]
  },
  {
   "cell_type": "code",
   "execution_count": 13,
   "metadata": {},
   "outputs": [
    {
     "name": "stdout",
     "output_type": "stream",
     "text": [
      "<xarray.DataArray 'msftyz' (time: 1032, basin: 3, lev: 75, rlat: 330)>\n",
      "[76626000 values with dtype=float32]\n",
      "Coordinates:\n",
      "    sector   (basin) |S21 b'atlantic_arctic_ocean' ... b'indian_pacific_ocean'\n",
      "  * rlat     (rlat) float64 -85.35 -85.19 -85.04 -84.89 ... 81.73 81.77 81.79\n",
      "  * lev      (lev) float64 0.0 1.024 2.103 3.251 ... 5.393e+03 5.596e+03 5.8e+03\n",
      "  * time     (time) float64 5.942e+04 5.944e+04 ... 9.032e+04 9.034e+04\n",
      "Dimensions without coordinates: basin\n",
      "Attributes:\n",
      "    standard_name:   ocean_y_overturning_mass_streamfunction\n",
      "    long_name:       Ocean Y Overturning Mass Streamfunction\n",
      "    comment:         mo: The latitude coordinate is for reference only and is...\n",
      "    units:           kg s-1\n",
      "    original_name:   mo: ((((((SEAWATER_DENSITY: 1026.): 1026.): 1026.): 1026...\n",
      "    original_units:  sverdrup kg m-3\n",
      "    history:         2019-08-19T10:32:59Z altered by CMOR: Converted units fr...\n",
      "    cell_methods:    time: mean grid_longitude: mean\n"
     ]
    }
   ],
   "source": [
    "streamfunction=ukesm1_ssp585.msftyz\n",
    "print(streamfunction)"
   ]
  },
  {
   "cell_type": "code",
   "execution_count": 16,
   "metadata": {},
   "outputs": [
    {
     "data": {
      "text/plain": [
       "<matplotlib.collections.QuadMesh at 0x1156a96a0>"
      ]
     },
     "execution_count": 16,
     "metadata": {},
     "output_type": "execute_result"
    },
    {
     "data": {
      "image/png": "[encoded data removed]",
      "text/plain": [
       "<Figure size 432x288 with 2 Axes>"
      ]
     },
     "metadata": {
      "needs_background": "light"
     },
     "output_type": "display_data"
    }
   ],
   "source": [
    "streamfunction_1=streamfunction.sel(rlat=slice(0,90),basin=0)  #select the Northern Hemisphere and the Atlantic basin\n",
    "streamfunction_2=streamfunction_1*1e-9   # convert units: 1 kg/s = 1*(10)^(-9) Sv\n",
    "streamfunction_2.mean(dim='time').plot(yincrease=False)"
   ]
  },
  {
   "cell_type": "code",
   "execution_count": null,
   "metadata": {},
   "outputs": [],
   "source": []
  }
 ],
 "metadata": {
  "kernelspec": {
   "display_name": "Python 3",
   "language": "python",
   "name": "python3"
  },
  "language_info": {
   "codemirror_mode": {
    "name": "ipython",
    "version": 3
   },
   "file_extension": ".py",
   "mimetype": "text/x-python",
   "name": "python",
   "nbconvert_exporter": "python",
   "pygments_lexer": "ipython3",
   "version": "3.7.3"
  }
 },
 "nbformat": 4,
 "nbformat_minor": 4
}
